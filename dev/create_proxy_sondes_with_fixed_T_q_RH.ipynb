{
 "cells": [
  {
   "cell_type": "code",
   "execution_count": 1,
   "metadata": {
    "ExecuteTime": {
     "end_time": "2020-05-15T10:36:36.612854Z",
     "start_time": "2020-05-15T10:36:35.653349Z"
    }
   },
   "outputs": [],
   "source": [
    "import xarray as xr\n",
    "import numpy as np\n",
    "import os\n",
    "from metpy import calc as mpcalc"
   ]
  },
  {
   "cell_type": "code",
   "execution_count": 2,
   "metadata": {
    "ExecuteTime": {
     "end_time": "2020-05-15T10:36:36.666436Z",
     "start_time": "2020-05-15T10:36:36.634083Z"
    }
   },
   "outputs": [],
   "source": [
    "if os.path.basename(os.path.expanduser(\"~\")) == 'bfildier':\n",
    "    inputdir = '/Users/bfildier/Data/EUREC4A/merged/sondes'\n",
    "    sonde_path = os.path.join(inputdir,'all_sondes.nc')\n",
    "    sondes = xr.open_dataset(sonde_path)\n",
    "else:    \n",
    "    inputdir = \"/run/media/ludo/DATA/google-drive/Thèse/EUREC4a/github/Input/\"\n",
    "    sonde_path = os.path.join(inputdir, \"all_sondes.nc\")\n",
    "    sondes = xr.open_dataset(sonde_path)\n"
   ]
  },
  {
   "cell_type": "code",
   "execution_count": 3,
   "metadata": {
    "ExecuteTime": {
     "end_time": "2020-05-15T07:27:51.988443Z",
     "start_time": "2020-05-15T07:27:51.979500Z"
    },
    "hide_input": false
   },
   "outputs": [],
   "source": [
    "# T_0 = 273.15           # K\n",
    "# R_d = 287.04           # J/kg/K\n",
    "# R_v = 461.4            # J/kg/K\n",
    "# g_to_kg = 0.001\n",
    "\n",
    "# ## Saturation vapor pressure from Buck (1981)\n",
    "# def saturationVaporPressure(temp):\n",
    "\n",
    "#     \"\"\"Argument: Temperature (K) as a numpy.ndarray or dask.array\n",
    "#     Returns: saturation vapor pressure (Pa) in the same format.\"\"\"\n",
    "\n",
    "#     whereAreNans = np.isnan(temp)\n",
    "#     temp_wo_Nans = temp.copy()\n",
    "#     temp_wo_Nans[whereAreNans] = 0.\n",
    "#     # Initialize\n",
    "#     e_sat = np.zeros(temp.shape)\n",
    "#     e_sat[whereAreNans] = np.nan\n",
    "#     #!!! T > 0C\n",
    "#     overliquid = (temp_wo_Nans > T_0)\n",
    "#     ## Buck\n",
    "#     e_sat_overliquid = 611.21*np.exp(np.multiply(18.678-(temp-T_0)/234.5,\n",
    "#                                                   np.divide((temp-T_0),257.14+(temp-T_0))))\n",
    "#     e_sat[overliquid] = e_sat_overliquid[overliquid]\n",
    "#     #!!! T < 0C \n",
    "#     overice = (temp_wo_Nans < T_0)\n",
    "#     ## Buck\n",
    "#     e_sat_overice = 611.15*np.exp(np.multiply(23.036-(temp-T_0)/333.7,\n",
    "#                                                np.divide((temp-T_0),279.82+(temp-T_0))))\n",
    "#     e_sat[overice] = e_sat_overice[overice]\n",
    "\n",
    "#     return e_sat       # in Pa\n",
    "\n",
    "# ## Compute the saturation specific humidity based on the expressions by Buck\n",
    "# def saturationSpecificHumidity(temp,pres):\n",
    "\n",
    "#     \"\"\"Convert from estimate of saturation vapor pressure to saturation specific\n",
    "#     humidity using the approximate equation qvsat ~ epsilon\"\"\"\n",
    "\n",
    "#     e_sat = saturationVaporPressure(temp)\n",
    "#     qvstar = (e_sat/R_v)/(pres/R_d)\n",
    "\n",
    "#     return qvstar"
   ]
  },
  {
   "cell_type": "code",
   "execution_count": 4,
   "metadata": {
    "ExecuteTime": {
     "end_time": "2020-05-15T07:28:24.627593Z",
     "start_time": "2020-05-15T07:27:53.559141Z"
    },
    "hide_input": false
   },
   "outputs": [
    {
     "name": "stderr",
     "output_type": "stream",
     "text": [
      "/Users/bfildier/anaconda3/envs/pyLMD/lib/python3.7/site-packages/ipykernel_launcher.py:2: RuntimeWarning: divide by zero encountered in true_divide\n",
      "  \n"
     ]
    },
    {
     "data": {
      "text/plain": [
       "<matplotlib.collections.PathCollection at 0x1a17e8be90>"
      ]
     },
     "execution_count": 4,
     "metadata": {},
     "output_type": "execute_result"
    },
    {
     "data": {
      "image/png": "[encoded data removed]",
      "text/plain": [
       "<Figure size 432x288 with 1 Axes>"
      ]
     },
     "metadata": {
      "needs_background": "light"
     },
     "output_type": "display_data"
    }
   ],
   "source": [
    "# qvstar = saturationSpecificHumidity(sondes.temperature.values+273.15,sondes.pressure.values*100)\n",
    "# rh_estimate = sondes.specific_humidity.values/qvstar*100\n",
    "\n",
    "# import matplotlib.pyplot as plt\n",
    "# plt.scatter(rh_estimate,sondes.relative_humidity,alpha=0.3)"
   ]
  },
  {
   "cell_type": "code",
   "execution_count": 3,
   "metadata": {
    "ExecuteTime": {
     "end_time": "2020-05-15T10:36:39.690905Z",
     "start_time": "2020-05-15T10:36:39.669852Z"
    }
   },
   "outputs": [
    {
     "data": {
      "text/html": [
       "<pre>&lt;xarray.Dataset&gt;\n",
       "Dimensions:            (height: 3000, launch_time: 2522)\n",
       "Coordinates:\n",
       "  * height             (height) float64 0.0 10.0 20.0 ... 2.998e+04 2.999e+04\n",
       "  * launch_time        (launch_time) datetime64[ns] 2020-01-19T16:55:14 ... 2020-02-16T04:14:33\n",
       "    latitude           (launch_time, height) float64 ...\n",
       "    longitude          (launch_time, height) float64 ...\n",
       "Data variables:\n",
       "    pressure           (launch_time, height) float64 ...\n",
       "    temperature        (launch_time, height) float64 ...\n",
       "    relative_humidity  (launch_time, height) float64 ...\n",
       "    wind_speed         (launch_time, height) float64 ...\n",
       "    wind_direction     (launch_time, height) float64 ...\n",
       "    u_wind             (launch_time, height) float64 ...\n",
       "    v_wind             (launch_time, height) float64 ...\n",
       "    specific_humidity  (launch_time, height) float64 ...\n",
       "    Platform           (launch_time) object ...\n",
       "    ascent_flag        (launch_time) float64 ...\n",
       "Attributes:\n",
       "    Title:                        Gridded, sounding data from JOANNE Level-2\n",
       "    Campaign:                     EUREC4A-ATOMIC (Jan-Feb, 2020)\n",
       "    Instrument:                   Vaisala RD41 (AVAPS receiver aboard aircraft)\n",
       "    Data Processing for Level-2:  AvapsEditorVersion &quot;BatchAspen V3.4.3&quot;\n",
       "    Author:                       Geet George (MPI-M, Hamburg); geet.george@m...\n",
       "    version:                      v0.1.0-3-g475a114\n",
       "    Conventions:                  CF-1.7\n",
       "    featureType:                  trajectory\n",
       "    Creation Time:                2020-04-28 10:45:10.585477 UTC</pre>"
      ],
      "text/plain": [
       "<xarray.Dataset>\n",
       "Dimensions:            (height: 3000, launch_time: 2522)\n",
       "Coordinates:\n",
       "  * height             (height) float64 0.0 10.0 20.0 ... 2.998e+04 2.999e+04\n",
       "  * launch_time        (launch_time) datetime64[ns] 2020-01-19T16:55:14 ... 2020-02-16T04:14:33\n",
       "    latitude           (launch_time, height) float64 ...\n",
       "    longitude          (launch_time, height) float64 ...\n",
       "Data variables:\n",
       "    pressure           (launch_time, height) float64 ...\n",
       "    temperature        (launch_time, height) float64 ...\n",
       "    relative_humidity  (launch_time, height) float64 ...\n",
       "    wind_speed         (launch_time, height) float64 ...\n",
       "    wind_direction     (launch_time, height) float64 ...\n",
       "    u_wind             (launch_time, height) float64 ...\n",
       "    v_wind             (launch_time, height) float64 ...\n",
       "    specific_humidity  (launch_time, height) float64 ...\n",
       "    Platform           (launch_time) object ...\n",
       "    ascent_flag        (launch_time) float64 ...\n",
       "Attributes:\n",
       "    Title:                        Gridded, sounding data from JOANNE Level-2\n",
       "    Campaign:                     EUREC4A-ATOMIC (Jan-Feb, 2020)\n",
       "    Instrument:                   Vaisala RD41 (AVAPS receiver aboard aircraft)\n",
       "    Data Processing for Level-2:  AvapsEditorVersion \"BatchAspen V3.4.3\"\n",
       "    Author:                       Geet George (MPI-M, Hamburg); geet.george@m...\n",
       "    version:                      v0.1.0-3-g475a114\n",
       "    Conventions:                  CF-1.7\n",
       "    featureType:                  trajectory\n",
       "    Creation Time:                2020-04-28 10:45:10.585477 UTC"
      ]
     },
     "execution_count": 3,
     "metadata": {},
     "output_type": "execute_result"
    }
   ],
   "source": [
    "sondes"
   ]
  },
  {
   "cell_type": "code",
   "execution_count": 9,
   "metadata": {
    "ExecuteTime": {
     "end_time": "2020-05-15T10:37:37.476616Z",
     "start_time": "2020-05-15T10:37:37.472373Z"
    }
   },
   "outputs": [],
   "source": [
    "def replace_with_mean(sondes,varid):\n",
    "    # take mean\n",
    "    var_mean = sondes.variables[varid].mean(axis=0).values[np.newaxis,:]\n",
    "    # duplicate\n",
    "    var_mean_ntimes = np.repeat(var_mean,\n",
    "              sondes.dims['launch_time'],0)\n",
    "    # assign in xarray\n",
    "    return sondes.update({varid:(('launch_time','height'),var_mean_ntimes)})\n",
    "    "
   ]
  },
  {
   "cell_type": "code",
   "execution_count": null,
   "metadata": {},
   "outputs": [],
   "source": []
  },
  {
   "cell_type": "code",
   "execution_count": 13,
   "metadata": {
    "ExecuteTime": {
     "end_time": "2020-05-15T10:38:21.313893Z",
     "start_time": "2020-05-15T10:38:20.991335Z"
    },
    "scrolled": false
   },
   "outputs": [],
   "source": [
    "var2avg = 'Q'\n",
    "varids = {'T':'temperature','Q':'specific_humidity','RH':'relative_humidity'}\n",
    "varid = varids[var2avg]\n",
    "\n",
    "# Need to reload original dataset each time\n",
    "# so far it is affected by the averaging\n",
    "sondes = xr.open_dataset(sonde_path)\n",
    "\n",
    "# Average chosen variable\n",
    "proxysondes = replace_with_mean(sondes,varid)\n",
    "if var2avg in ['T','Q']:\n",
    "    proxysondes.drop_vars('relative_humidity')\n",
    "\n",
    "#TODO # if var2avg is temperature or Q, recalculate RH\n",
    "#TODO # (not necessary, to make it consistent)\n",
    "\n",
    "#TODO # if var2avg is RH, recalculate Q\n",
    "#TODO # (required for radiative calculation)"
   ]
  },
  {
   "cell_type": "code",
   "execution_count": 14,
   "metadata": {
    "ExecuteTime": {
     "end_time": "2020-05-15T10:38:21.498614Z",
     "start_time": "2020-05-15T10:38:21.487067Z"
    }
   },
   "outputs": [
    {
     "data": {
      "text/html": [
       "<pre>&lt;xarray.Dataset&gt;\n",
       "Dimensions:            (height: 3000, launch_time: 2522)\n",
       "Coordinates:\n",
       "  * height             (height) float64 0.0 10.0 20.0 ... 2.998e+04 2.999e+04\n",
       "  * launch_time        (launch_time) datetime64[ns] 2020-01-19T16:55:14 ... 2020-02-16T04:14:33\n",
       "    latitude           (launch_time, height) float64 ...\n",
       "    longitude          (launch_time, height) float64 ...\n",
       "Data variables:\n",
       "    pressure           (launch_time, height) float64 ...\n",
       "    temperature        (launch_time, height) float64 ...\n",
       "    relative_humidity  (launch_time, height) float64 ...\n",
       "    wind_speed         (launch_time, height) float64 ...\n",
       "    wind_direction     (launch_time, height) float64 ...\n",
       "    u_wind             (launch_time, height) float64 ...\n",
       "    v_wind             (launch_time, height) float64 ...\n",
       "    specific_humidity  (launch_time, height) float64 0.01505 ... 5.002e-05\n",
       "    Platform           (launch_time) object ...\n",
       "    ascent_flag        (launch_time) float64 ...\n",
       "Attributes:\n",
       "    Title:                        Gridded, sounding data from JOANNE Level-2\n",
       "    Campaign:                     EUREC4A-ATOMIC (Jan-Feb, 2020)\n",
       "    Instrument:                   Vaisala RD41 (AVAPS receiver aboard aircraft)\n",
       "    Data Processing for Level-2:  AvapsEditorVersion &quot;BatchAspen V3.4.3&quot;\n",
       "    Author:                       Geet George (MPI-M, Hamburg); geet.george@m...\n",
       "    version:                      v0.1.0-3-g475a114\n",
       "    Conventions:                  CF-1.7\n",
       "    featureType:                  trajectory\n",
       "    Creation Time:                2020-04-28 10:45:10.585477 UTC</pre>"
      ],
      "text/plain": [
       "<xarray.Dataset>\n",
       "Dimensions:            (height: 3000, launch_time: 2522)\n",
       "Coordinates:\n",
       "  * height             (height) float64 0.0 10.0 20.0 ... 2.998e+04 2.999e+04\n",
       "  * launch_time        (launch_time) datetime64[ns] 2020-01-19T16:55:14 ... 2020-02-16T04:14:33\n",
       "    latitude           (launch_time, height) float64 ...\n",
       "    longitude          (launch_time, height) float64 ...\n",
       "Data variables:\n",
       "    pressure           (launch_time, height) float64 ...\n",
       "    temperature        (launch_time, height) float64 ...\n",
       "    relative_humidity  (launch_time, height) float64 ...\n",
       "    wind_speed         (launch_time, height) float64 ...\n",
       "    wind_direction     (launch_time, height) float64 ...\n",
       "    u_wind             (launch_time, height) float64 ...\n",
       "    v_wind             (launch_time, height) float64 ...\n",
       "    specific_humidity  (launch_time, height) float64 0.01505 ... 5.002e-05\n",
       "    Platform           (launch_time) object ...\n",
       "    ascent_flag        (launch_time) float64 ...\n",
       "Attributes:\n",
       "    Title:                        Gridded, sounding data from JOANNE Level-2\n",
       "    Campaign:                     EUREC4A-ATOMIC (Jan-Feb, 2020)\n",
       "    Instrument:                   Vaisala RD41 (AVAPS receiver aboard aircraft)\n",
       "    Data Processing for Level-2:  AvapsEditorVersion \"BatchAspen V3.4.3\"\n",
       "    Author:                       Geet George (MPI-M, Hamburg); geet.george@m...\n",
       "    version:                      v0.1.0-3-g475a114\n",
       "    Conventions:                  CF-1.7\n",
       "    featureType:                  trajectory\n",
       "    Creation Time:                2020-04-28 10:45:10.585477 UTC"
      ]
     },
     "execution_count": 14,
     "metadata": {},
     "output_type": "execute_result"
    }
   ],
   "source": [
    "proxysondes"
   ]
  },
  {
   "cell_type": "code",
   "execution_count": 15,
   "metadata": {
    "ExecuteTime": {
     "end_time": "2020-05-15T10:38:30.334831Z",
     "start_time": "2020-05-15T10:38:22.031129Z"
    }
   },
   "outputs": [],
   "source": [
    "# save file\n",
    "new_filename = 'proxy_sondes_fixed%s.nc'%var2avg\n",
    "proxysondes.to_netcdf(os.path.join(inputdir,new_filename))"
   ]
  },
  {
   "cell_type": "code",
   "execution_count": null,
   "metadata": {},
   "outputs": [],
   "source": []
  },
  {
   "cell_type": "code",
   "execution_count": null,
   "metadata": {},
   "outputs": [],
   "source": []
  }
 ],
 "metadata": {
  "hide_input": false,
  "kernelspec": {
   "display_name": "Python 3",
   "language": "python",
   "name": "python3"
  },
  "language_info": {
   "codemirror_mode": {
    "name": "ipython",
    "version": 3
   },
   "file_extension": ".py",
   "mimetype": "text/x-python",
   "name": "python",
   "nbconvert_exporter": "python",
   "pygments_lexer": "ipython3",
   "version": "3.7.6"
  },
  "toc": {
   "base_numbering": 1,
   "nav_menu": {},
   "number_sections": true,
   "sideBar": true,
   "skip_h1_title": false,
   "title_cell": "Table of Contents",
   "title_sidebar": "Contents",
   "toc_cell": false,
   "toc_position": {},
   "toc_section_display": true,
   "toc_window_display": false
  },
  "varInspector": {
   "cols": {
    "lenName": 16,
    "lenType": 16,
    "lenVar": 40
   },
   "kernels_config": {
    "python": {
     "delete_cmd_postfix": "",
     "delete_cmd_prefix": "del ",
     "library": "var_list.py",
     "varRefreshCmd": "print(var_dic_list())"
    },
    "r": {
     "delete_cmd_postfix": ") ",
     "delete_cmd_prefix": "rm(",
     "library": "var_list.r",
     "varRefreshCmd": "cat(var_dic_list()) "
    }
   },
   "types_to_exclude": [
    "module",
    "function",
    "builtin_function_or_method",
    "instance",
    "_Feature"
   ],
   "window_display": false
  }
 },
 "nbformat": 4,
 "nbformat_minor": 4
}
