{
 "cells": [
  {
   "cell_type": "code",
   "execution_count": 54,
   "metadata": {
    "ExecuteTime": {
     "end_time": "2020-05-13T10:10:19.990158Z",
     "start_time": "2020-05-13T10:10:18.990882Z"
    }
   },
   "outputs": [],
   "source": [
    "import xarray as xr\n",
    "import numpy as np\n",
    "import os\n",
    "from metpy import calc as mpcalc"
   ]
  },
  {
   "cell_type": "code",
   "execution_count": 78,
   "metadata": {
    "ExecuteTime": {
     "end_time": "2020-05-13T10:39:48.242315Z",
     "start_time": "2020-05-13T10:39:48.226590Z"
    }
   },
   "outputs": [],
   "source": [
    "if os.path.basename(os.path.expanduser(\"~\")) == 'bfildier':\n",
    "    inputdir = '/Users/bfildier/Data/EUREC4A/merged/sondes'\n",
    "    sonde_path = os.path.join(inputdir,'all_sondes.nc')\n",
    "    sondes = xr.open_dataset(sonde_path)\n",
    "else:    \n",
    "    inputdir = \"/run/media/ludo/DATA/google-drive/Thèse/EUREC4a/github/Input/\"\n",
    "    sonde_path = os.path.join(inputdir, \"all_sondes.nc\")\n",
    "    sondes = xr.open_dataset(sonde_path)\n"
   ]
  },
  {
   "cell_type": "code",
   "execution_count": 79,
   "metadata": {
    "ExecuteTime": {
     "end_time": "2020-05-13T10:39:51.912403Z",
     "start_time": "2020-05-13T10:39:51.909109Z"
    },
    "hide_input": true
   },
   "outputs": [],
   "source": [
    "# T_0 = 273.15           # K\n",
    "# R_d = 287.04           # J/kg/K\n",
    "# R_v = 461.4            # J/kg/K\n",
    "# g_to_kg = 0.001\n",
    "\n",
    "# ## Saturation vapor pressure from Buck (1981)\n",
    "# def saturationVaporPressure(temp):\n",
    "\n",
    "#     \"\"\"Argument: Temperature (K) as a numpy.ndarray or dask.array\n",
    "#     Returns: saturation vapor pressure (Pa) in the same format.\"\"\"\n",
    "\n",
    "#     whereAreNans = np.isnan(temp)\n",
    "#     temp_wo_Nans = temp.copy()\n",
    "#     temp_wo_Nans[whereAreNans] = 0.\n",
    "#     # Initialize\n",
    "#     e_sat = np.zeros(temp.shape)\n",
    "#     e_sat[whereAreNans] = np.nan\n",
    "#     #!!! T > 0C\n",
    "#     overliquid = (temp_wo_Nans > T_0)\n",
    "#     ## Buck\n",
    "#     e_sat_overliquid = 611.21*np.exp(np.multiply(18.678-(temp-T_0)/234.5,\n",
    "#                                                   np.divide((temp-T_0),257.14+(temp-T_0))))\n",
    "#     e_sat[overliquid] = e_sat_overliquid[overliquid]\n",
    "#     #!!! T < 0C \n",
    "#     overice = (temp_wo_Nans < T_0)\n",
    "#     ## Buck\n",
    "#     e_sat_overice = 611.15*np.exp(np.multiply(23.036-(temp-T_0)/333.7,\n",
    "#                                                np.divide((temp-T_0),279.82+(temp-T_0))))\n",
    "#     e_sat[overice] = e_sat_overice[overice]\n",
    "\n",
    "#     return e_sat       # in Pa\n",
    "\n",
    "# ## Compute the saturation specific humidity based on the expressions by Buck\n",
    "# def saturationSpecificHumidity(temp,pres):\n",
    "\n",
    "#     \"\"\"Convert from estimate of saturation vapor pressure to saturation specific\n",
    "#     humidity using the approximate equation qvsat ~ epsilon\"\"\"\n",
    "\n",
    "#     e_sat = saturationVaporPressure(temp)\n",
    "#     qvstar = (e_sat/R_v)/(pres/R_d)\n",
    "\n",
    "#     return qvstar"
   ]
  },
  {
   "cell_type": "code",
   "execution_count": 80,
   "metadata": {
    "ExecuteTime": {
     "end_time": "2020-05-13T10:39:52.162165Z",
     "start_time": "2020-05-13T10:39:52.159753Z"
    },
    "hide_input": true
   },
   "outputs": [],
   "source": [
    "# qvstar = saturationSpecificHumidity(sondes.tdry.values+273.15,sondes.pres.values*100)\n",
    "# rh_estimate = sondes.mr.values/qvstar*g_to_kg*100\n",
    "\n",
    "# import matplotlib.pyplot as plt\n",
    "# plt.scatter(rh_estimate,sondes.rh)"
   ]
  },
  {
   "cell_type": "code",
   "execution_count": 81,
   "metadata": {
    "ExecuteTime": {
     "end_time": "2020-05-13T10:39:53.317781Z",
     "start_time": "2020-05-13T10:39:53.304109Z"
    }
   },
   "outputs": [
    {
     "data": {
      "text/html": [
       "<pre>&lt;xarray.Dataset&gt;\n",
       "Dimensions:      (gpsalt: 3000, launch_time: 2586)\n",
       "Coordinates:\n",
       "  * gpsalt       (gpsalt) int64 0 10 20 30 40 ... 29950 29960 29970 29980 29990\n",
       "  * launch_time  (launch_time) datetime64[ns] 2020-01-15T15:19:15 ... 2020-02-16T04:14:33\n",
       "Data variables:\n",
       "    time         (launch_time, gpsalt) datetime64[ns] ...\n",
       "    pres         (launch_time, gpsalt) float64 ...\n",
       "    tdry         (launch_time, gpsalt) float64 ...\n",
       "    dp           (launch_time, gpsalt) float64 ...\n",
       "    rh           (launch_time, gpsalt) float64 ...\n",
       "    u_wind       (launch_time, gpsalt) float64 ...\n",
       "    v_wind       (launch_time, gpsalt) float64 ...\n",
       "    wspd         (launch_time, gpsalt) float64 ...\n",
       "    wdir         (launch_time, gpsalt) float64 ...\n",
       "    mr           (launch_time, gpsalt) float64 ...\n",
       "    theta        (launch_time, gpsalt) float64 ...\n",
       "    theta_e      (launch_time, gpsalt) float64 ...\n",
       "    theta_v      (launch_time, gpsalt) float64 ...\n",
       "    lat          (launch_time, gpsalt) float64 ...\n",
       "    lon          (launch_time, gpsalt) float64 ...\n",
       "    ascent_flag  (launch_time) float64 ...</pre>"
      ],
      "text/plain": [
       "<xarray.Dataset>\n",
       "Dimensions:      (gpsalt: 3000, launch_time: 2586)\n",
       "Coordinates:\n",
       "  * gpsalt       (gpsalt) int64 0 10 20 30 40 ... 29950 29960 29970 29980 29990\n",
       "  * launch_time  (launch_time) datetime64[ns] 2020-01-15T15:19:15 ... 2020-02-16T04:14:33\n",
       "Data variables:\n",
       "    time         (launch_time, gpsalt) datetime64[ns] ...\n",
       "    pres         (launch_time, gpsalt) float64 ...\n",
       "    tdry         (launch_time, gpsalt) float64 ...\n",
       "    dp           (launch_time, gpsalt) float64 ...\n",
       "    rh           (launch_time, gpsalt) float64 ...\n",
       "    u_wind       (launch_time, gpsalt) float64 ...\n",
       "    v_wind       (launch_time, gpsalt) float64 ...\n",
       "    wspd         (launch_time, gpsalt) float64 ...\n",
       "    wdir         (launch_time, gpsalt) float64 ...\n",
       "    mr           (launch_time, gpsalt) float64 ...\n",
       "    theta        (launch_time, gpsalt) float64 ...\n",
       "    theta_e      (launch_time, gpsalt) float64 ...\n",
       "    theta_v      (launch_time, gpsalt) float64 ...\n",
       "    lat          (launch_time, gpsalt) float64 ...\n",
       "    lon          (launch_time, gpsalt) float64 ...\n",
       "    ascent_flag  (launch_time) float64 ..."
      ]
     },
     "execution_count": 81,
     "metadata": {},
     "output_type": "execute_result"
    }
   ],
   "source": [
    "sondes"
   ]
  },
  {
   "cell_type": "code",
   "execution_count": 82,
   "metadata": {
    "ExecuteTime": {
     "end_time": "2020-05-13T10:39:55.657899Z",
     "start_time": "2020-05-13T10:39:55.654075Z"
    }
   },
   "outputs": [],
   "source": [
    "def replace_with_mean(sondes,varid):\n",
    "    # take mean\n",
    "    var_mean = sondes.variables[varid].mean(axis=0).values[np.newaxis,:]\n",
    "    # duplicate\n",
    "    var_mean_ntimes = np.repeat(var_mean,\n",
    "              sondes.dims['launch_time'],0)\n",
    "    # assign in xarrray\n",
    "    return sondes.update({varid:(('launch_time','gpsalt'),var_mean_ntimes)})\n",
    "    "
   ]
  },
  {
   "cell_type": "code",
   "execution_count": 83,
   "metadata": {
    "ExecuteTime": {
     "end_time": "2020-05-13T10:39:56.677508Z",
     "start_time": "2020-05-13T10:39:56.674526Z"
    }
   },
   "outputs": [],
   "source": [
    "# First remove variables unused for radiative calculation\n",
    "# and which could lead to confusion after taking averages\n",
    "sondes = sondes.drop_vars([\"theta\",\"theta_e\",\"theta_v\"])"
   ]
  },
  {
   "cell_type": "code",
   "execution_count": 84,
   "metadata": {
    "ExecuteTime": {
     "end_time": "2020-05-13T10:40:01.916934Z",
     "start_time": "2020-05-13T10:40:01.597259Z"
    }
   },
   "outputs": [],
   "source": [
    "var2avg = 'Q'\n",
    "varids = {'T':'tdry','Q':'mr','RH':'rh'}\n",
    "varid = varids[var2avg]\n",
    "\n",
    "# Average chosen variable\n",
    "sondes = replace_with_mean(sondes,varid)\n",
    "\n",
    "#TODO # if var2avg is temperature or Q, recalculate RH\n",
    "#TODO # (unnecessary but why not)\n",
    "\n",
    "#TODO # if var2avg is RH, recalculate Q"
   ]
  },
  {
   "cell_type": "code",
   "execution_count": 85,
   "metadata": {
    "ExecuteTime": {
     "end_time": "2020-05-13T10:40:12.463616Z",
     "start_time": "2020-05-13T10:40:03.579669Z"
    }
   },
   "outputs": [],
   "source": [
    "# save file\n",
    "new_filename = 'proxy_sondes_fixed%s.nc'%var2avg\n",
    "sondes.to_netcdf(os.path.join(inputdir,new_filename))"
   ]
  },
  {
   "cell_type": "code",
   "execution_count": null,
   "metadata": {},
   "outputs": [],
   "source": []
  }
 ],
 "metadata": {
  "hide_input": false,
  "kernelspec": {
   "display_name": "Python 3",
   "language": "python",
   "name": "python3"
  },
  "language_info": {
   "codemirror_mode": {
    "name": "ipython",
    "version": 3
   },
   "file_extension": ".py",
   "mimetype": "text/x-python",
   "name": "python",
   "nbconvert_exporter": "python",
   "pygments_lexer": "ipython3",
   "version": "3.7.6"
  },
  "toc": {
   "base_numbering": 1,
   "nav_menu": {},
   "number_sections": true,
   "sideBar": true,
   "skip_h1_title": false,
   "title_cell": "Table of Contents",
   "title_sidebar": "Contents",
   "toc_cell": false,
   "toc_position": {},
   "toc_section_display": true,
   "toc_window_display": false
  },
  "varInspector": {
   "cols": {
    "lenName": 16,
    "lenType": 16,
    "lenVar": 40
   },
   "kernels_config": {
    "python": {
     "delete_cmd_postfix": "",
     "delete_cmd_prefix": "del ",
     "library": "var_list.py",
     "varRefreshCmd": "print(var_dic_list())"
    },
    "r": {
     "delete_cmd_postfix": ") ",
     "delete_cmd_prefix": "rm(",
     "library": "var_list.r",
     "varRefreshCmd": "cat(var_dic_list()) "
    }
   },
   "types_to_exclude": [
    "module",
    "function",
    "builtin_function_or_method",
    "instance",
    "_Feature"
   ],
   "window_display": false
  }
 },
 "nbformat": 4,
 "nbformat_minor": 4
}
