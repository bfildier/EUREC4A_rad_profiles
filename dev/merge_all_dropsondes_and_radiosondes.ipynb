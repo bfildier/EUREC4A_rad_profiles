{
 "cells": [
  {
   "cell_type": "code",
   "execution_count": 17,
   "metadata": {
    "ExecuteTime": {
     "end_time": "2020-04-08T15:24:48.784447Z",
     "start_time": "2020-04-08T15:24:47.435130Z"
    }
   },
   "outputs": [],
   "source": [
    "import xarray as xr\n",
    "import numpy as np\n",
    "import os\n",
    "from metpy import calc as mpcalc"
   ]
  },
  {
   "cell_type": "code",
   "execution_count": 23,
   "metadata": {
    "ExecuteTime": {
     "end_time": "2020-04-08T16:05:13.421749Z",
     "start_time": "2020-04-08T16:05:13.303001Z"
    }
   },
   "outputs": [],
   "source": [
    "inputdir = \"/run/media/ludo/DATA/google-drive/Thèse/EUREC4a/github/Input/\"\n",
    "dropsonde_path = os.path.join(inputdir, \"Dropsondes\", \"all_dropsondes.nc\")\n",
    "radiosonde_path = os.path.join(inputdir, \"Radiosondes\", \"all_radiosondes.nc\")\n",
    "\n",
    "# inputdir = '/Users/bfildier/Data/EUREC4A/merged/sondes'\n",
    "# radiosondes = xr.open_dataset(os.path.join(inputdir,'all_radiosondes.nc'))\n",
    "# dropsondes = xr.open_dataset(os.path.join(inputdir,'all_dropsondes.nc'))"
   ]
  },
  {
   "cell_type": "code",
   "execution_count": 72,
   "metadata": {},
   "outputs": [],
   "source": [
    "def prepare_dropsondes(dropsonde_path):\n",
    "    dropsondes = xr.open_dataset(dropsonde_path)\n",
    "\n",
    "    dropsondes = dropsondes.drop_vars([\"trajectory\",\"w_wind\", \"dz\", \"vt\", \"alt\", \"reference_time\", \\\n",
    "                                   \"reference_pres\", \"reference_tdry\", \"reference_rh\", \"reference_wspd\",\\\n",
    "                                 \"reference_wdir\", \"reference_lat\", \"reference_lon\", \"reference_alt\", \"T_interp\",\\\n",
    "                                 \"T\", \"rh_interp\", \"q\"])\n",
    "\n",
    "    dropsondes[\"tdry\"].attrs[\"units\"] = \"degC\"\n",
    "    dropsondes[\"dp\"].attrs[\"units\"] = \"degC\"\n",
    "    dropsondes[\"pres\"].attrs[\"units\"] = \"hPa\"\n",
    "\n",
    "    dropsondes[\"ascent_flag\"] = ([\"launch_time\"], np.zeros(len(dropsondes.launch_time.values)))\n",
    "    \n",
    "    return dropsondes"
   ]
  },
  {
   "cell_type": "code",
   "execution_count": 73,
   "metadata": {
    "ExecuteTime": {
     "end_time": "2020-04-08T16:06:16.592263Z",
     "start_time": "2020-04-08T16:06:16.584305Z"
    },
    "collapsed": true
   },
   "outputs": [
    {
     "name": "stdout",
     "output_type": "stream",
     "text": [
      "<xarray.Dataset>\n",
      "Dimensions:      (gpsalt: 3000, launch_time: 1454)\n",
      "Coordinates:\n",
      "  * gpsalt       (gpsalt) float32 0.0 10.0 20.0 30.0 ... 29970.0 29980.0 29990.0\n",
      "  * launch_time  (launch_time) datetime64[ns] 2020-01-16T15:14:58 ... 2020-02-16T04:14:33\n",
      "Data variables:\n",
      "    tdry         (launch_time, gpsalt) float32 nan nan nan nan ... nan nan nan\n",
      "    dp           (launch_time, gpsalt) float32 nan nan nan nan ... nan nan nan\n",
      "    time         (launch_time, gpsalt) datetime64[ns] ...\n",
      "    wspd         (launch_time, gpsalt) float32 ...\n",
      "    pres         (launch_time, gpsalt) float32 nan nan nan nan ... nan nan nan\n",
      "    u_wind       (launch_time, gpsalt) float32 ...\n",
      "    v_wind       (launch_time, gpsalt) float32 ...\n",
      "    lat          (launch_time, gpsalt) float32 ...\n",
      "    lon          (launch_time, gpsalt) float32 ...\n",
      "    mr           (launch_time, gpsalt) float32 nan nan nan nan ... nan nan nan\n",
      "    wdir         (launch_time, gpsalt) float32 ...\n",
      "    rh           (launch_time, gpsalt) float32 ...\n",
      "    platform     (launch_time) object 'BCO' 'BCO' 'BCO' ... 'ATL' 'ATL' 'ATL'\n",
      "    ascent_flag  (launch_time) int8 ...\n",
      "    theta        (launch_time, gpsalt) float32 nan nan nan nan ... nan nan nan\n",
      "    theta_v      (launch_time, gpsalt) float32 nan nan nan nan ... nan nan nan\n",
      "    theta_e      (launch_time, gpsalt) float32 nan nan nan nan ... nan nan nan\n"
     ]
    }
   ],
   "source": [
    "def prepare_radiosondes(radiosonde_path)\n",
    "\n",
    "    radiosondes = xr.open_dataset(radiosonde_path)\n",
    "\n",
    "    radiosondes = radiosondes.reset_coords(['lon','lat','time'])\n",
    "\n",
    "    radiosondes[\"tdry\"].attrs[\"units\"] = \"degC\"\n",
    "    radiosondes[\"pres\"].attrs[\"units\"] = \"hPa\"\n",
    "    radiosondes[\"dp\"].attrs[\"units\"] = \"degC\"\n",
    "\n",
    "\n",
    "    theta = mpcalc.potential_temperature(radiosondes[\"pres\"], radiosondes[\"tdry\"])\n",
    "    radiosondes[\"theta\"] = ([\"launch_time\", \"gpsalt\"], theta.magnitude)\n",
    "\n",
    "    theta_v = mpcalc.virtual_potential_temperature(radiosondes[\"pres\"], radiosondes[\"tdry\"], radiosondes[\"mr\"]/1000)\n",
    "    radiosondes[\"theta_v\"] = ([\"launch_time\", \"gpsalt\"], theta_v.magnitude)\n",
    "\n",
    "    theta_e = mpcalc.equivalent_potential_temperature(radiosondes[\"pres\"], radiosondes[\"tdry\"], radiosondes[\"dp\"])\n",
    "    radiosondes[\"theta_e\"] = ([\"launch_time\", \"gpsalt\"], theta_e.magnitude)\n",
    "\n",
    "    del radiosondes.attrs[\"title\"]\n",
    "    del radiosondes.attrs[\"doi\"]\n",
    "    del radiosondes.attrs[\"surface_altitude\"]\n",
    "    del radiosondes.attrs[\"featureType\"]\n",
    "    del radiosondes.attrs[\"Conventions\"]\n",
    "    del radiosondes.attrs[\"history\"]\n",
    "    del radiosondes.attrs[\"NCO\"]\n",
    "    del radiosondes.attrs[\"nco_openmp_thread_number\"]\n",
    "\n",
    "    radiosondes = radiosondes.drop_vars([\"specific_humidity\", \"ascent_rate\"])\n",
    "\n",
    "    length = len(radiosondes.launch_time.values)\n",
    "    list_str = []\n",
    "    for i in range(length):\n",
    "        radiosonde = radiosondes.isel(launch_time = i)\n",
    "\n",
    "        if (radiosonde.platform.values==1):\n",
    "            list_str.append(\"BCO\")\n",
    "        elif (radiosonde.platform.values==2):\n",
    "            list_str.append(\"BCO\")\n",
    "        elif (radiosonde.platform.values==3):\n",
    "            list_str.append(\"RHB\")\n",
    "        elif (radiosonde.platform.values==4):\n",
    "            list_str.append(\"MER\")\n",
    "        else:\n",
    "            list_str.append(\"ATL\")     \n",
    "\n",
    "    array = np.array(list_str, dtype=object)\n",
    "    radiosondes[\"platform\"] = ([\"launch_time\"], array)\n",
    "    \n",
    "    return radiosondes"
   ]
  },
  {
   "cell_type": "code",
   "execution_count": 74,
   "metadata": {
    "collapsed": true
   },
   "outputs": [
    {
     "name": "stdout",
     "output_type": "stream",
     "text": [
      "<xarray.Dataset>\n",
      "Dimensions:      (gpsalt: 1001, launch_time: 1170)\n",
      "Coordinates:\n",
      "  * launch_time  (launch_time) datetime64[ns] 2020-01-15T15:19:15 ... 2020-02-18T16:18:02\n",
      "  * gpsalt       (gpsalt) int64 0 10 20 30 40 50 ... 9960 9970 9980 9990 10000\n",
      "Data variables:\n",
      "    time         (launch_time, gpsalt) float64 ...\n",
      "    pres         (launch_time, gpsalt) float64 ...\n",
      "    tdry         (launch_time, gpsalt) float64 ...\n",
      "    dp           (launch_time, gpsalt) float64 ...\n",
      "    rh           (launch_time, gpsalt) float64 ...\n",
      "    u_wind       (launch_time, gpsalt) float64 ...\n",
      "    v_wind       (launch_time, gpsalt) float64 ...\n",
      "    wspd         (launch_time, gpsalt) float64 ...\n",
      "    wdir         (launch_time, gpsalt) float64 ...\n",
      "    mr           (launch_time, gpsalt) float64 ...\n",
      "    theta        (launch_time, gpsalt) float64 ...\n",
      "    theta_e      (launch_time, gpsalt) float64 ...\n",
      "    theta_v      (launch_time, gpsalt) float64 ...\n",
      "    lat          (launch_time, gpsalt) float64 ...\n",
      "    lon          (launch_time, gpsalt) float64 ...\n",
      "    platform     (launch_time) object ...\n",
      "    ascent_flag  (launch_time) float64 0.0 0.0 0.0 0.0 0.0 ... 0.0 0.0 0.0 0.0 <xarray.Dataset>\n",
      "Dimensions:      (gpsalt: 3000, launch_time: 1454)\n",
      "Coordinates:\n",
      "  * gpsalt       (gpsalt) float32 0.0 10.0 20.0 30.0 ... 29970.0 29980.0 29990.0\n",
      "  * launch_time  (launch_time) datetime64[ns] 2020-01-16T15:14:58 ... 2020-02-16T04:14:33\n",
      "Data variables:\n",
      "    tdry         (launch_time, gpsalt) float32 nan nan nan nan ... nan nan nan\n",
      "    dp           (launch_time, gpsalt) float32 nan nan nan nan ... nan nan nan\n",
      "    time         (launch_time, gpsalt) datetime64[ns] ...\n",
      "    wspd         (launch_time, gpsalt) float32 ...\n",
      "    pres         (launch_time, gpsalt) float32 nan nan nan nan ... nan nan nan\n",
      "    u_wind       (launch_time, gpsalt) float32 ...\n",
      "    v_wind       (launch_time, gpsalt) float32 ...\n",
      "    lat          (launch_time, gpsalt) float32 ...\n",
      "    lon          (launch_time, gpsalt) float32 ...\n",
      "    mr           (launch_time, gpsalt) float32 nan nan nan nan ... nan nan nan\n",
      "    wdir         (launch_time, gpsalt) float32 ...\n",
      "    rh           (launch_time, gpsalt) float32 ...\n",
      "    platform     (launch_time) object 'BCO' 'BCO' 'BCO' ... 'ATL' 'ATL' 'ATL'\n",
      "    ascent_flag  (launch_time) int8 ...\n",
      "    theta        (launch_time, gpsalt) float32 nan nan nan nan ... nan nan nan\n",
      "    theta_v      (launch_time, gpsalt) float32 nan nan nan nan ... nan nan nan\n",
      "    theta_e      (launch_time, gpsalt) float32 nan nan nan nan ... nan nan nan\n"
     ]
    }
   ],
   "source": [
    "dropsondes = prepare_dropsondes(dropsonde_path)\n",
    "radiosondes = prepare_radiosondes(radiosonde_path)\n",
    "print(dropsonde, radiosonde)"
   ]
  },
  {
   "cell_type": "code",
   "execution_count": null,
   "metadata": {
    "ExecuteTime": {
     "end_time": "2020-04-08T16:06:00.346810Z",
     "start_time": "2020-04-08T16:05:54.778963Z"
    }
   },
   "outputs": [],
   "source": [
    "all_sondes = xr.concat([dropsondes,radiosondes],dim='launch_time')"
   ]
  },
  {
   "cell_type": "code",
   "execution_count": null,
   "metadata": {
    "ExecuteTime": {
     "end_time": "2020-04-08T15:56:44.520776Z",
     "start_time": "2020-04-08T15:56:44.510348Z"
    }
   },
   "outputs": [],
   "source": [
    "print(all_sondes)"
   ]
  },
  {
   "cell_type": "code",
   "execution_count": null,
   "metadata": {},
   "outputs": [],
   "source": [
    "all_sondes.to_netcdf(os.path.join(inputdir, \"all_sondes.nc\"))"
   ]
  }
 ],
 "metadata": {
  "hide_input": false,
  "kernelspec": {
   "display_name": "Python 3",
   "language": "python",
   "name": "python3"
  },
  "language_info": {
   "codemirror_mode": {
    "name": "ipython",
    "version": 3
   },
   "file_extension": ".py",
   "mimetype": "text/x-python",
   "name": "python",
   "nbconvert_exporter": "python",
   "pygments_lexer": "ipython3",
   "version": "3.7.6"
  },
  "toc": {
   "base_numbering": 1,
   "nav_menu": {},
   "number_sections": true,
   "sideBar": true,
   "skip_h1_title": false,
   "title_cell": "Table of Contents",
   "title_sidebar": "Contents",
   "toc_cell": false,
   "toc_position": {},
   "toc_section_display": true,
   "toc_window_display": false
  },
  "varInspector": {
   "cols": {
    "lenName": 16,
    "lenType": 16,
    "lenVar": 40
   },
   "kernels_config": {
    "python": {
     "delete_cmd_postfix": "",
     "delete_cmd_prefix": "del ",
     "library": "var_list.py",
     "varRefreshCmd": "print(var_dic_list())"
    },
    "r": {
     "delete_cmd_postfix": ") ",
     "delete_cmd_prefix": "rm(",
     "library": "var_list.r",
     "varRefreshCmd": "cat(var_dic_list()) "
    }
   },
   "types_to_exclude": [
    "module",
    "function",
    "builtin_function_or_method",
    "instance",
    "_Feature"
   ],
   "window_display": false
  }
 },
 "nbformat": 4,
 "nbformat_minor": 4
}
