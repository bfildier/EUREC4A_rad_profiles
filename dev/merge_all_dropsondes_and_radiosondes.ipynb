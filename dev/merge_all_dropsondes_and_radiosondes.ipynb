{
 "cells": [
  {
   "cell_type": "code",
   "execution_count": 4,
   "metadata": {
    "ExecuteTime": {
     "end_time": "2020-05-13T09:02:06.157148Z",
     "start_time": "2020-05-13T09:02:06.154362Z"
    }
   },
   "outputs": [],
   "source": [
    "import xarray as xr\n",
    "import numpy as np\n",
    "import os\n",
    "from metpy import calc as mpcalc"
   ]
  },
  {
   "cell_type": "code",
   "execution_count": 7,
   "metadata": {
    "ExecuteTime": {
     "end_time": "2020-05-13T09:02:06.543510Z",
     "start_time": "2020-05-13T09:02:06.540184Z"
    }
   },
   "outputs": [],
   "source": [
    "#The dropsonde file can be downloaded from: https://owncloud.gwdg.de/index.php/s/uy2eBvEI2pHRVKf?path=%2FLevel_3\n",
    "\n",
    "if os.path.basename(os.path.expanduser(\"~\")) == 'bfildier':\n",
    "    inputdir = '/Users/bfildier/Data/EUREC4A/merged/sondes'\n",
    "    radiosonde_path = os.path.join(inputdir,'all_radiosondes.nc')\n",
    "    dropsonde_path = os.path.join(inputdir,'all_dropsondes.nc')\n",
    "else:    \n",
    "    inputdir = \"/run/media/ludo/DATA/google-drive/Thèse/EUREC4a/github/Input/\"\n",
    "    dropsonde_path = os.path.join(inputdir, \"Dropsondes\", \"EUREC4A_Dropsonde-RD41_Level_3A.nc\")\n",
    "    radiosonde_path = os.path.join(inputdir, \"Radiosondes\", \"all_radiosondes.nc\")\n",
    "\n"
   ]
  },
  {
   "cell_type": "code",
   "execution_count": 48,
   "metadata": {
    "ExecuteTime": {
     "end_time": "2020-05-13T09:02:06.818630Z",
     "start_time": "2020-05-13T09:02:06.812625Z"
    }
   },
   "outputs": [],
   "source": [
    "def prepare_dropsondes(dropsonde_path):\n",
    "    dropsondes = xr.open_dataset(dropsonde_path)\n",
    "\n",
    "    dropsondes = dropsondes.swap_dims({'sounding':'launch_time', 'obs':'height'}).reset_coords()\n",
    "    dropsondes = dropsondes.drop_vars([\"obs\", \"sounding\",\"potential_temperature\",\"precipitable_water\",\"static_stability\",\"low_height_flag\",\\\n",
    "                                      \"cloud_flag\", \"flight_height\", \"flight_lat\", \"flight_lon\"])\n",
    "    \n",
    "\n",
    "    dropsondes[\"ascent_flag\"] = ([\"launch_time\"], np.zeros(len(dropsondes.launch_time.values)))\n",
    "\n",
    "    return dropsondes"
   ]
  },
  {
   "cell_type": "code",
   "execution_count": 49,
   "metadata": {
    "ExecuteTime": {
     "end_time": "2020-05-13T09:02:07.024184Z",
     "start_time": "2020-05-13T09:02:07.012891Z"
    }
   },
   "outputs": [],
   "source": [
    "def prepare_radiosondes(radiosonde_path):\n",
    "\n",
    "    radiosondes = xr.open_dataset(radiosonde_path)\n",
    "\n",
    "    radiosondes = radiosondes.reset_coords(['lon','lat','time'])   \n",
    "   \n",
    "    radiosondes[\"specific_humidity\"] = radiosondes[\"specific_humidity\"]/1000\n",
    "    \n",
    "\n",
    "    radiosondes = radiosondes.rename({'gpsalt':'height', 'tdry':'temperature', \"wspd\":\"wind_speed\",\"pres\":\"pressure\",\\\n",
    "                                 \"lat\":\"latitude\",\"lon\":\"longitude\",\"rh\":\"relative_humidity\",\"wdir\":\"wind_direction\"})\n",
    "    \n",
    "\n",
    "    del radiosondes.attrs[\"title\"]\n",
    "    del radiosondes.attrs[\"doi\"]\n",
    "    del radiosondes.attrs[\"surface_altitude\"]\n",
    "    del radiosondes.attrs[\"featureType\"]\n",
    "    del radiosondes.attrs[\"Conventions\"]\n",
    "    del radiosondes.attrs[\"history\"]\n",
    "    del radiosondes.attrs[\"NCO\"]\n",
    "    del radiosondes.attrs[\"nco_openmp_thread_number\"]\n",
    "\n",
    "    length = len(radiosondes.launch_time.values)\n",
    "    list_str = []\n",
    "    for i in range(length):\n",
    "        radiosonde = radiosondes.isel(launch_time = i)\n",
    "\n",
    "        if (radiosonde.platform.values==1):\n",
    "            list_str.append(\"BCO\")\n",
    "        elif (radiosonde.platform.values==2):\n",
    "            list_str.append(\"MET\")\n",
    "        elif (radiosonde.platform.values==3):\n",
    "            list_str.append(\"RHB\")\n",
    "        elif (radiosonde.platform.values==4):\n",
    "            list_str.append(\"MER\")\n",
    "        else:\n",
    "            list_str.append(\"ATL\")     \n",
    "\n",
    "    array = np.array(list_str, dtype=object)\n",
    "    radiosondes[\"Platform\"] = ([\"launch_time\"], array)\n",
    "    \n",
    "    radiosondes = radiosondes.drop_vars([\"dp\",\"time\",\"mr\",\"ascent_rate\",\"platform\"])\n",
    "\n",
    "        \n",
    "    return radiosondes"
   ]
  },
  {
   "cell_type": "code",
   "execution_count": 50,
   "metadata": {
    "ExecuteTime": {
     "end_time": "2020-05-13T09:02:09.923889Z",
     "start_time": "2020-05-13T09:02:07.301624Z"
    }
   },
   "outputs": [
    {
     "name": "stdout",
     "output_type": "stream",
     "text": [
      "<xarray.Dataset>\n",
      "Dimensions:            (height: 1001, launch_time: 1068)\n",
      "Coordinates:\n",
      "  * launch_time        (launch_time) datetime64[ns] 2020-01-19T16:55:14 ... 2020-02-11T09:43:11\n",
      "  * height             (height) float64 0.0 10.0 20.0 ... 9.99e+03 1e+04\n",
      "Data variables:\n",
      "    latitude           (launch_time, height) float64 ...\n",
      "    longitude          (launch_time, height) float64 ...\n",
      "    pressure           (launch_time, height) float64 ...\n",
      "    temperature        (launch_time, height) float64 ...\n",
      "    relative_humidity  (launch_time, height) float64 ...\n",
      "    wind_speed         (launch_time, height) float64 ...\n",
      "    wind_direction     (launch_time, height) float64 ...\n",
      "    u_wind             (launch_time, height) float64 ...\n",
      "    v_wind             (launch_time, height) float64 ...\n",
      "    specific_humidity  (launch_time, height) float64 ...\n",
      "    Platform           (launch_time) object ...\n",
      "    ascent_flag        (launch_time) float64 0.0 0.0 0.0 0.0 ... 0.0 0.0 0.0 0.0\n",
      "Attributes:\n",
      "    Title:                        Gridded, sounding data from JOANNE Level-2\n",
      "    Campaign:                     EUREC4A-ATOMIC (Jan-Feb, 2020)\n",
      "    Instrument:                   Vaisala RD41 (AVAPS receiver aboard aircraft)\n",
      "    Data Processing for Level-2:  AvapsEditorVersion \"BatchAspen V3.4.3\"\n",
      "    Author:                       Geet George (MPI-M, Hamburg); geet.george@m...\n",
      "    version:                      v0.1.0-3-g475a114\n",
      "    Conventions:                  CF-1.7\n",
      "    featureType:                  trajectory\n",
      "    Creation Time:                2020-04-28 10:45:10.585477 UTC <xarray.Dataset>\n",
      "Dimensions:            (height: 3000, launch_time: 1454)\n",
      "Coordinates:\n",
      "  * height             (height) float32 0.0 10.0 20.0 ... 29980.0 29990.0\n",
      "  * launch_time        (launch_time) datetime64[ns] 2020-01-16T15:14:58 ... 2020-02-16T04:14:33\n",
      "Data variables:\n",
      "    temperature        (launch_time, height) float32 ...\n",
      "    wind_speed         (launch_time, height) float32 ...\n",
      "    pressure           (launch_time, height) float32 ...\n",
      "    u_wind             (launch_time, height) float32 ...\n",
      "    v_wind             (launch_time, height) float32 ...\n",
      "    latitude           (launch_time, height) float32 ...\n",
      "    longitude          (launch_time, height) float32 ...\n",
      "    wind_direction     (launch_time, height) float32 ...\n",
      "    specific_humidity  (launch_time, height) float32 nan nan nan ... nan nan nan\n",
      "    relative_humidity  (launch_time, height) float32 ...\n",
      "    ascent_flag        (launch_time) int8 ...\n",
      "    Platform           (launch_time) object 'BCO' 'BCO' 'BCO' ... 'ATL' 'ATL'\n"
     ]
    }
   ],
   "source": [
    "dropsondes = prepare_dropsondes(dropsonde_path)\n",
    "radiosondes = prepare_radiosondes(radiosonde_path)\n",
    "print(dropsondes, radiosondes)"
   ]
  },
  {
   "cell_type": "code",
   "execution_count": 55,
   "metadata": {
    "ExecuteTime": {
     "end_time": "2020-05-13T09:02:15.332881Z",
     "start_time": "2020-05-13T09:02:09.954774Z"
    }
   },
   "outputs": [],
   "source": [
    "all_sondes = xr.concat([dropsondes,radiosondes],dim='launch_time')"
   ]
  },
  {
   "cell_type": "code",
   "execution_count": 56,
   "metadata": {
    "ExecuteTime": {
     "end_time": "2020-05-13T09:05:31.292366Z",
     "start_time": "2020-05-13T09:05:31.277515Z"
    }
   },
   "outputs": [
    {
     "name": "stdout",
     "output_type": "stream",
     "text": [
      "<xarray.Dataset>\n",
      "Dimensions:            (height: 3000, launch_time: 2522)\n",
      "Coordinates:\n",
      "  * height             (height) float64 0.0 10.0 20.0 ... 2.998e+04 2.999e+04\n",
      "  * launch_time        (launch_time) datetime64[ns] 2020-01-19T16:55:14 ... 2020-02-16T04:14:33\n",
      "Data variables:\n",
      "    latitude           (launch_time, height) float64 nan 13.84 13.84 ... nan nan\n",
      "    longitude          (launch_time, height) float64 nan -55.27 ... nan nan\n",
      "    pressure           (launch_time, height) float64 nan 1.013e+03 ... nan nan\n",
      "    temperature        (launch_time, height) float64 nan 25.89 25.79 ... nan nan\n",
      "    relative_humidity  (launch_time, height) float64 nan 71.75 70.79 ... nan nan\n",
      "    wind_speed         (launch_time, height) float64 nan 9.67 9.818 ... nan nan\n",
      "    wind_direction     (launch_time, height) float64 nan 67.21 67.28 ... nan nan\n",
      "    u_wind             (launch_time, height) float64 nan -8.916 ... nan nan\n",
      "    v_wind             (launch_time, height) float64 nan -3.746 ... nan nan\n",
      "    specific_humidity  (launch_time, height) float64 0.0151 0.01499 ... nan nan\n",
      "    Platform           (launch_time) object 'HALO' 'HALO' 'HALO' ... 'ATL' 'ATL'\n",
      "    ascent_flag        (launch_time) float64 0.0 0.0 0.0 0.0 ... 1.0 0.0 1.0 0.0\n",
      "Attributes:\n",
      "    Title:                        Gridded, sounding data from JOANNE Level-2\n",
      "    Campaign:                     EUREC4A-ATOMIC (Jan-Feb, 2020)\n",
      "    Instrument:                   Vaisala RD41 (AVAPS receiver aboard aircraft)\n",
      "    Data Processing for Level-2:  AvapsEditorVersion \"BatchAspen V3.4.3\"\n",
      "    Author:                       Geet George (MPI-M, Hamburg); geet.george@m...\n",
      "    version:                      v0.1.0-3-g475a114\n",
      "    Conventions:                  CF-1.7\n",
      "    featureType:                  trajectory\n",
      "    Creation Time:                2020-04-28 10:45:10.585477 UTC\n"
     ]
    }
   ],
   "source": [
    "print(all_sondes)"
   ]
  },
  {
   "cell_type": "code",
   "execution_count": 57,
   "metadata": {
    "ExecuteTime": {
     "end_time": "2020-05-13T09:05:43.928324Z",
     "start_time": "2020-05-13T09:05:34.890563Z"
    }
   },
   "outputs": [],
   "source": [
    "all_sondes.to_netcdf(os.path.join(inputdir, \"all_sondes.nc\"))"
   ]
  },
  {
   "cell_type": "code",
   "execution_count": null,
   "metadata": {},
   "outputs": [],
   "source": []
  }
 ],
 "metadata": {
  "hide_input": false,
  "kernelspec": {
   "display_name": "Python 3",
   "language": "python",
   "name": "python3"
  },
  "language_info": {
   "codemirror_mode": {
    "name": "ipython",
    "version": 3
   },
   "file_extension": ".py",
   "mimetype": "text/x-python",
   "name": "python",
   "nbconvert_exporter": "python",
   "pygments_lexer": "ipython3",
   "version": "3.7.6"
  },
  "toc": {
   "base_numbering": 1,
   "nav_menu": {},
   "number_sections": true,
   "sideBar": true,
   "skip_h1_title": false,
   "title_cell": "Table of Contents",
   "title_sidebar": "Contents",
   "toc_cell": false,
   "toc_position": {},
   "toc_section_display": true,
   "toc_window_display": false
  },
  "varInspector": {
   "cols": {
    "lenName": 16,
    "lenType": 16,
    "lenVar": 40
   },
   "kernels_config": {
    "python": {
     "delete_cmd_postfix": "",
     "delete_cmd_prefix": "del ",
     "library": "var_list.py",
     "varRefreshCmd": "print(var_dic_list())"
    },
    "r": {
     "delete_cmd_postfix": ") ",
     "delete_cmd_prefix": "rm(",
     "library": "var_list.r",
     "varRefreshCmd": "cat(var_dic_list()) "
    }
   },
   "types_to_exclude": [
    "module",
    "function",
    "builtin_function_or_method",
    "instance",
    "_Feature"
   ],
   "window_display": false
  }
 },
 "nbformat": 4,
 "nbformat_minor": 4
}
