{
 "cells": [
  {
   "cell_type": "code",
   "execution_count": 1,
   "metadata": {
    "ExecuteTime": {
     "end_time": "2020-05-14T13:32:19.877304Z",
     "start_time": "2020-05-14T13:32:18.440079Z"
    }
   },
   "outputs": [],
   "source": [
    "import xarray as xr\n",
    "import numpy as np\n",
    "import os\n",
    "from metpy import calc as mpcalc"
   ]
  },
  {
   "cell_type": "code",
   "execution_count": 2,
   "metadata": {
    "ExecuteTime": {
     "end_time": "2020-05-14T13:32:20.907279Z",
     "start_time": "2020-05-14T13:32:20.901880Z"
    }
   },
   "outputs": [],
   "source": [
    "if os.path.basename(os.path.expanduser(\"~\")) == 'bfildier':\n",
    "    inputdir = '/Users/bfildier/Data/EUREC4A/merged/sondes'\n",
    "    radiosonde_path = os.path.join(inputdir,'all_radiosondes.nc')\n",
    "    dropsonde_path = os.path.join(inputdir,'all_dropsondes.nc')\n",
    "else:    \n",
    "    inputdir = \"/run/media/ludo/DATA/google-drive/Thèse/EUREC4a/github/Input/\"\n",
    "    dropsonde_path = os.path.join(inputdir, \"Dropsondes\", \"all_dropsondes.nc\")\n",
    "    radiosonde_path = os.path.join(inputdir, \"Radiosondes\", \"all_radiosondes.nc\")\n"
   ]
  },
  {
   "cell_type": "code",
   "execution_count": 4,
   "metadata": {
    "ExecuteTime": {
     "end_time": "2020-05-14T13:33:34.561793Z",
     "start_time": "2020-05-14T13:33:34.555951Z"
    }
   },
   "outputs": [],
   "source": [
    "def prepare_dropsondes(dropsonde_path):\n",
    "    \n",
    "# Ludo's version\n",
    "#     dropsondes = xr.open_dataset(dropsonde_path)\n",
    "\n",
    "#     dropsondes = dropsondes.drop_vars([\"trajectory\",\"w_wind\", \"dz\", \"vt\", \"alt\", \"reference_time\", \\\n",
    "#                                    \"reference_pres\", \"reference_tdry\", \"reference_rh\", \"reference_wspd\",\\\n",
    "#                                  \"reference_wdir\", \"reference_lat\", \"reference_lon\", \"reference_alt\", \"T_interp\",\\\n",
    "#                                  \"T\", \"rh_interp\", \"q\"])\n",
    "\n",
    "#     dropsondes[\"time\"] = dropsondes[\"time\"].astype(\"datetime64\")\n",
    "#     dropsondes.rename({\"Platform\":\"platform\"})\n",
    "\n",
    "# Ben's version\n",
    "\n",
    "    dropsondes = xr.open_dataset(dropsonde_path)\n",
    "\n",
    "    dropsondes = dropsondes.drop_vars([\"trajectory\",\"w_wind\", \"dz\", \"vt\", \"reference_time\", \\\n",
    "                                       \"reference_pres\", \"reference_tdry\", \"reference_rh\", \"reference_wspd\",\\\n",
    "                                     \"reference_wdir\", \"reference_lat\", \"reference_lon\", \"reference_alt\", \"T_interp\",\\\n",
    "                                     \"T\", \"rh_interp\", \"q\"])\n",
    "\n",
    "    dropsondes = dropsondes.drop_vars('gpsalt')\n",
    "    dropsondes = dropsondes.rename_dims({'alt':'gpsalt'})\n",
    "    dropsondes.rename({'alt':'gpsalt'})\n",
    "\n",
    "# End Ben's version\n",
    "    \n",
    "    dropsondes[\"tdry\"].attrs[\"units\"] = \"degC\"\n",
    "    dropsondes[\"dp\"].attrs[\"units\"] = \"degC\"\n",
    "    dropsondes[\"pres\"].attrs[\"units\"] = \"hPa\"\n",
    "\n",
    "    dropsondes[\"ascent_flag\"] = ([\"launch_time\"], np.zeros(len(dropsondes.launch_time.values)))\n",
    "\n",
    "    return dropsondes"
   ]
  },
  {
   "cell_type": "code",
   "execution_count": 25,
   "metadata": {
    "ExecuteTime": {
     "end_time": "2020-05-14T08:32:03.574519Z",
     "start_time": "2020-05-14T08:32:03.560815Z"
    }
   },
   "outputs": [],
   "source": [
    "def prepare_radiosondes(radiosonde_path):\n",
    "\n",
    "    radiosondes = xr.open_dataset(radiosonde_path)\n",
    "\n",
    "    radiosondes = radiosondes.reset_coords(['lon','lat','time'])   \n",
    "\n",
    "    radiosondes[\"tdry\"].attrs[\"units\"] = \"degC\"\n",
    "    radiosondes[\"pres\"].attrs[\"units\"] = \"hPa\"\n",
    "    radiosondes[\"dp\"].attrs[\"units\"] = \"degC\"\n",
    "    \n",
    "    theta = mpcalc.potential_temperature(radiosondes[\"pres\"], radiosondes[\"tdry\"])\n",
    "    radiosondes[\"theta\"] = ([\"launch_time\", \"gpsalt\"], theta.magnitude)\n",
    "\n",
    "    theta_v = mpcalc.virtual_potential_temperature(radiosondes[\"pres\"], radiosondes[\"tdry\"], radiosondes[\"mr\"]/1000)\n",
    "    radiosondes[\"theta_v\"] = ([\"launch_time\", \"gpsalt\"], theta_v.magnitude)\n",
    "\n",
    "    theta_e = mpcalc.equivalent_potential_temperature(radiosondes[\"pres\"], radiosondes[\"tdry\"], radiosondes[\"dp\"])\n",
    "    radiosondes[\"theta_e\"] = ([\"launch_time\", \"gpsalt\"], theta_e.magnitude)\n",
    "\n",
    "    del radiosondes.attrs[\"title\"]\n",
    "    del radiosondes.attrs[\"doi\"]\n",
    "    del radiosondes.attrs[\"surface_altitude\"]\n",
    "    del radiosondes.attrs[\"featureType\"]\n",
    "    del radiosondes.attrs[\"Conventions\"]\n",
    "    del radiosondes.attrs[\"history\"]\n",
    "    del radiosondes.attrs[\"NCO\"]\n",
    "    del radiosondes.attrs[\"nco_openmp_thread_number\"]\n",
    "\n",
    "    radiosondes = radiosondes.drop_vars([\"specific_humidity\", \"ascent_rate\"])\n",
    "\n",
    "    length = len(radiosondes.launch_time.values)\n",
    "    list_str = []\n",
    "    for i in range(length):\n",
    "        radiosonde = radiosondes.isel(launch_time = i)\n",
    "\n",
    "        if (radiosonde.platform.values==1):\n",
    "            list_str.append(\"BCO\")\n",
    "        elif (radiosonde.platform.values==2):\n",
    "            list_str.append(\"MET\")\n",
    "        elif (radiosonde.platform.values==3):\n",
    "            list_str.append(\"RHB\")\n",
    "        elif (radiosonde.platform.values==4):\n",
    "            list_str.append(\"MER\")\n",
    "        else:\n",
    "            list_str.append(\"ATL\")     \n",
    "\n",
    "    array = np.array(list_str, dtype=object)\n",
    "    radiosondes[\"platform\"] = ([\"launch_time\"], array)\n",
    "        \n",
    "    return radiosondes"
   ]
  },
  {
   "cell_type": "code",
   "execution_count": 26,
   "metadata": {
    "ExecuteTime": {
     "end_time": "2020-05-14T08:32:03.994276Z",
     "start_time": "2020-05-14T08:32:03.967245Z"
    }
   },
   "outputs": [
    {
     "data": {
      "text/html": [
       "<pre>&lt;xarray.Dataset&gt;\n",
       "Dimensions:         (alt: 1001, launch_time: 1140)\n",
       "Coordinates:\n",
       "  * launch_time     (launch_time) datetime64[ns] 2020-01-15T15:19:15 ... 2020-02-18T16:18:02\n",
       "  * alt             (alt) int64 0 10 20 30 40 50 ... 9960 9970 9980 9990 10000\n",
       "Data variables:\n",
       "    trajectory      (launch_time) |S8 ...\n",
       "    pres            (launch_time, alt) float64 ...\n",
       "    tdry            (launch_time, alt) float64 ...\n",
       "    dp              (launch_time, alt) float64 ...\n",
       "    rh              (launch_time, alt) float64 ...\n",
       "    u_wind          (launch_time, alt) float64 ...\n",
       "    v_wind          (launch_time, alt) float64 ...\n",
       "    w_wind          (launch_time, alt) float64 ...\n",
       "    wspd            (launch_time, alt) float64 ...\n",
       "    wdir            (launch_time, alt) float64 ...\n",
       "    dz              (launch_time, alt) float64 ...\n",
       "    mr              (launch_time, alt) float64 ...\n",
       "    vt              (launch_time, alt) float64 ...\n",
       "    theta           (launch_time, alt) float64 ...\n",
       "    theta_e         (launch_time, alt) float64 ...\n",
       "    theta_v         (launch_time, alt) float64 ...\n",
       "    lat             (launch_time, alt) float64 ...\n",
       "    lon             (launch_time, alt) float64 ...\n",
       "    gpsalt          (launch_time, alt) float64 ...\n",
       "    reference_time  (launch_time) datetime64[ns] ...\n",
       "    reference_pres  (launch_time) float32 ...\n",
       "    reference_tdry  (launch_time) float32 ...\n",
       "    reference_rh    (launch_time) float32 ...\n",
       "    reference_wspd  (launch_time) float32 ...\n",
       "    reference_wdir  (launch_time) float32 ...\n",
       "    reference_lat   (launch_time) float32 ...\n",
       "    reference_lon   (launch_time) float32 ...\n",
       "    reference_alt   (launch_time) float32 ...\n",
       "    T_interp        (launch_time, alt) float64 ...\n",
       "    T               (launch_time, alt) float64 ...\n",
       "    rh_interp       (launch_time, alt) float64 ...\n",
       "    q               (launch_time, alt) float64 ...\n",
       "    iwv             (launch_time) float64 ...\n",
       "    platform        (launch_time) object ...\n",
       "    wind_dir        (launch_time, alt) float64 ...</pre>"
      ],
      "text/plain": [
       "<xarray.Dataset>\n",
       "Dimensions:         (alt: 1001, launch_time: 1140)\n",
       "Coordinates:\n",
       "  * launch_time     (launch_time) datetime64[ns] 2020-01-15T15:19:15 ... 2020-02-18T16:18:02\n",
       "  * alt             (alt) int64 0 10 20 30 40 50 ... 9960 9970 9980 9990 10000\n",
       "Data variables:\n",
       "    trajectory      (launch_time) |S8 ...\n",
       "    pres            (launch_time, alt) float64 ...\n",
       "    tdry            (launch_time, alt) float64 ...\n",
       "    dp              (launch_time, alt) float64 ...\n",
       "    rh              (launch_time, alt) float64 ...\n",
       "    u_wind          (launch_time, alt) float64 ...\n",
       "    v_wind          (launch_time, alt) float64 ...\n",
       "    w_wind          (launch_time, alt) float64 ...\n",
       "    wspd            (launch_time, alt) float64 ...\n",
       "    wdir            (launch_time, alt) float64 ...\n",
       "    dz              (launch_time, alt) float64 ...\n",
       "    mr              (launch_time, alt) float64 ...\n",
       "    vt              (launch_time, alt) float64 ...\n",
       "    theta           (launch_time, alt) float64 ...\n",
       "    theta_e         (launch_time, alt) float64 ...\n",
       "    theta_v         (launch_time, alt) float64 ...\n",
       "    lat             (launch_time, alt) float64 ...\n",
       "    lon             (launch_time, alt) float64 ...\n",
       "    gpsalt          (launch_time, alt) float64 ...\n",
       "    reference_time  (launch_time) datetime64[ns] ...\n",
       "    reference_pres  (launch_time) float32 ...\n",
       "    reference_tdry  (launch_time) float32 ...\n",
       "    reference_rh    (launch_time) float32 ...\n",
       "    reference_wspd  (launch_time) float32 ...\n",
       "    reference_wdir  (launch_time) float32 ...\n",
       "    reference_lat   (launch_time) float32 ...\n",
       "    reference_lon   (launch_time) float32 ...\n",
       "    reference_alt   (launch_time) float32 ...\n",
       "    T_interp        (launch_time, alt) float64 ...\n",
       "    T               (launch_time, alt) float64 ...\n",
       "    rh_interp       (launch_time, alt) float64 ...\n",
       "    q               (launch_time, alt) float64 ...\n",
       "    iwv             (launch_time) float64 ...\n",
       "    platform        (launch_time) object ...\n",
       "    wind_dir        (launch_time, alt) float64 ..."
      ]
     },
     "execution_count": 26,
     "metadata": {},
     "output_type": "execute_result"
    }
   ],
   "source": [
    "xr.open_dataset(dropsonde_path)"
   ]
  },
  {
   "cell_type": "code",
   "execution_count": 27,
   "metadata": {
    "ExecuteTime": {
     "end_time": "2020-05-14T08:32:08.128385Z",
     "start_time": "2020-05-14T08:32:05.485984Z"
    }
   },
   "outputs": [
    {
     "name": "stdout",
     "output_type": "stream",
     "text": [
      "<xarray.Dataset>\n",
      "Dimensions:      (gpsalt: 1001, launch_time: 1140)\n",
      "Coordinates:\n",
      "  * launch_time  (launch_time) datetime64[ns] 2020-01-15T15:19:15 ... 2020-02-18T16:18:02\n",
      "    alt          (gpsalt) int64 0 10 20 30 40 50 ... 9960 9970 9980 9990 10000\n",
      "Dimensions without coordinates: gpsalt\n",
      "Data variables:\n",
      "    pres         (launch_time, gpsalt) float64 ...\n",
      "    tdry         (launch_time, gpsalt) float64 ...\n",
      "    dp           (launch_time, gpsalt) float64 ...\n",
      "    rh           (launch_time, gpsalt) float64 ...\n",
      "    u_wind       (launch_time, gpsalt) float64 ...\n",
      "    v_wind       (launch_time, gpsalt) float64 ...\n",
      "    wspd         (launch_time, gpsalt) float64 ...\n",
      "    wdir         (launch_time, gpsalt) float64 ...\n",
      "    mr           (launch_time, gpsalt) float64 ...\n",
      "    theta        (launch_time, gpsalt) float64 ...\n",
      "    theta_e      (launch_time, gpsalt) float64 ...\n",
      "    theta_v      (launch_time, gpsalt) float64 ...\n",
      "    lat          (launch_time, gpsalt) float64 ...\n",
      "    lon          (launch_time, gpsalt) float64 ...\n",
      "    iwv          (launch_time) float64 ...\n",
      "    platform     (launch_time) object ...\n",
      "    wind_dir     (launch_time, gpsalt) float64 ...\n",
      "    ascent_flag  (launch_time) float64 0.0 0.0 0.0 0.0 0.0 ... 0.0 0.0 0.0 0.0 <xarray.Dataset>\n",
      "Dimensions:      (gpsalt: 3000, launch_time: 1454)\n",
      "Coordinates:\n",
      "  * gpsalt       (gpsalt) float32 0.0 10.0 20.0 30.0 ... 29970.0 29980.0 29990.0\n",
      "  * launch_time  (launch_time) datetime64[ns] 2020-01-16T15:14:58 ... 2020-02-16T04:14:33\n",
      "Data variables:\n",
      "    tdry         (launch_time, gpsalt) float32 nan nan nan nan ... nan nan nan\n",
      "    dp           (launch_time, gpsalt) float32 nan nan nan nan ... nan nan nan\n",
      "    time         (launch_time, gpsalt) datetime64[ns] ...\n",
      "    wspd         (launch_time, gpsalt) float32 ...\n",
      "    pres         (launch_time, gpsalt) float32 nan nan nan nan ... nan nan nan\n",
      "    u_wind       (launch_time, gpsalt) float32 ...\n",
      "    v_wind       (launch_time, gpsalt) float32 ...\n",
      "    lat          (launch_time, gpsalt) float32 ...\n",
      "    lon          (launch_time, gpsalt) float32 ...\n",
      "    mr           (launch_time, gpsalt) float32 nan nan nan nan ... nan nan nan\n",
      "    wdir         (launch_time, gpsalt) float32 ...\n",
      "    rh           (launch_time, gpsalt) float32 ...\n",
      "    platform     (launch_time) object 'BCO' 'BCO' 'BCO' ... 'ATL' 'ATL' 'ATL'\n",
      "    ascent_flag  (launch_time) int8 ...\n",
      "    theta        (launch_time, gpsalt) float32 nan nan nan nan ... nan nan nan\n",
      "    theta_v      (launch_time, gpsalt) float32 nan nan nan nan ... nan nan nan\n",
      "    theta_e      (launch_time, gpsalt) float32 nan nan nan nan ... nan nan nan\n"
     ]
    }
   ],
   "source": [
    "dropsondes = prepare_dropsondes(dropsonde_path)\n",
    "radiosondes = prepare_radiosondes(radiosonde_path)\n",
    "print(dropsondes, radiosondes)"
   ]
  },
  {
   "cell_type": "code",
   "execution_count": 28,
   "metadata": {
    "ExecuteTime": {
     "end_time": "2020-05-14T08:32:20.417028Z",
     "start_time": "2020-05-14T08:32:20.414875Z"
    }
   },
   "outputs": [],
   "source": [
    "# dropsondes = xr.open_dataset(dropsonde_path)\n",
    "\n",
    "# dropsondes = dropsondes.drop_vars([\"trajectory\",\"w_wind\", \"dz\", \"vt\", \"reference_time\", \\\n",
    "#                                    \"reference_pres\", \"reference_tdry\", \"reference_rh\", \"reference_wspd\",\\\n",
    "#                                  \"reference_wdir\", \"reference_lat\", \"reference_lon\", \"reference_alt\", \"T_interp\",\\\n",
    "#                                  \"T\", \"rh_interp\", \"q\"])\n",
    "\n",
    "# dropsondes = dropsondes.drop_vars('gpsalt')\n",
    "# dropsondes = dropsondes.rename_dims({'alt':'gpsalt'})\n",
    "# dropsondes.rename({'alt':'gpsalt'})\n",
    "# # dropsondes"
   ]
  },
  {
   "cell_type": "code",
   "execution_count": 29,
   "metadata": {
    "ExecuteTime": {
     "end_time": "2020-05-14T08:32:22.018691Z",
     "start_time": "2020-05-14T08:32:22.001169Z"
    }
   },
   "outputs": [
    {
     "ename": "ValueError",
     "evalue": "arguments without labels along dimension 'gpsalt' cannot be aligned because they have different dimension size(s) {1001} than the size of the aligned dimension labels: 3000",
     "output_type": "error",
     "traceback": [
      "\u001b[0;31m---------------------------------------------------------------------------\u001b[0m",
      "\u001b[0;31mValueError\u001b[0m                                Traceback (most recent call last)",
      "\u001b[0;32m<ipython-input-29-7b483d87dc77>\u001b[0m in \u001b[0;36m<module>\u001b[0;34m\u001b[0m\n\u001b[0;32m----> 1\u001b[0;31m \u001b[0mall_sondes\u001b[0m \u001b[0;34m=\u001b[0m \u001b[0mxr\u001b[0m\u001b[0;34m.\u001b[0m\u001b[0mconcat\u001b[0m\u001b[0;34m(\u001b[0m\u001b[0;34m[\u001b[0m\u001b[0mdropsondes\u001b[0m\u001b[0;34m,\u001b[0m\u001b[0mradiosondes\u001b[0m\u001b[0;34m]\u001b[0m\u001b[0;34m,\u001b[0m\u001b[0mdim\u001b[0m\u001b[0;34m=\u001b[0m\u001b[0;34m'launch_time'\u001b[0m\u001b[0;34m)\u001b[0m\u001b[0;34m\u001b[0m\u001b[0;34m\u001b[0m\u001b[0m\n\u001b[0m",
      "\u001b[0;32m~/anaconda3/envs/pyLMD/lib/python3.7/site-packages/xarray/core/concat.py\u001b[0m in \u001b[0;36mconcat\u001b[0;34m(objs, dim, data_vars, coords, compat, positions, fill_value, join)\u001b[0m\n\u001b[1;32m    133\u001b[0m             \u001b[0;34m\"objects, got %s\"\u001b[0m \u001b[0;34m%\u001b[0m \u001b[0mtype\u001b[0m\u001b[0;34m(\u001b[0m\u001b[0mfirst_obj\u001b[0m\u001b[0;34m)\u001b[0m\u001b[0;34m\u001b[0m\u001b[0;34m\u001b[0m\u001b[0m\n\u001b[1;32m    134\u001b[0m         )\n\u001b[0;32m--> 135\u001b[0;31m     \u001b[0;32mreturn\u001b[0m \u001b[0mf\u001b[0m\u001b[0;34m(\u001b[0m\u001b[0mobjs\u001b[0m\u001b[0;34m,\u001b[0m \u001b[0mdim\u001b[0m\u001b[0;34m,\u001b[0m \u001b[0mdata_vars\u001b[0m\u001b[0;34m,\u001b[0m \u001b[0mcoords\u001b[0m\u001b[0;34m,\u001b[0m \u001b[0mcompat\u001b[0m\u001b[0;34m,\u001b[0m \u001b[0mpositions\u001b[0m\u001b[0;34m,\u001b[0m \u001b[0mfill_value\u001b[0m\u001b[0;34m,\u001b[0m \u001b[0mjoin\u001b[0m\u001b[0;34m)\u001b[0m\u001b[0;34m\u001b[0m\u001b[0;34m\u001b[0m\u001b[0m\n\u001b[0m\u001b[1;32m    136\u001b[0m \u001b[0;34m\u001b[0m\u001b[0m\n\u001b[1;32m    137\u001b[0m \u001b[0;34m\u001b[0m\u001b[0m\n",
      "\u001b[0;32m~/anaconda3/envs/pyLMD/lib/python3.7/site-packages/xarray/core/concat.py\u001b[0m in \u001b[0;36m_dataset_concat\u001b[0;34m(datasets, dim, data_vars, coords, compat, positions, fill_value, join)\u001b[0m\n\u001b[1;32m    301\u001b[0m     \u001b[0mdatasets\u001b[0m \u001b[0;34m=\u001b[0m \u001b[0;34m[\u001b[0m\u001b[0mds\u001b[0m\u001b[0;34m.\u001b[0m\u001b[0mcopy\u001b[0m\u001b[0;34m(\u001b[0m\u001b[0;34m)\u001b[0m \u001b[0;32mfor\u001b[0m \u001b[0mds\u001b[0m \u001b[0;32min\u001b[0m \u001b[0mdatasets\u001b[0m\u001b[0;34m]\u001b[0m\u001b[0;34m\u001b[0m\u001b[0;34m\u001b[0m\u001b[0m\n\u001b[1;32m    302\u001b[0m     datasets = align(\n\u001b[0;32m--> 303\u001b[0;31m         \u001b[0;34m*\u001b[0m\u001b[0mdatasets\u001b[0m\u001b[0;34m,\u001b[0m \u001b[0mjoin\u001b[0m\u001b[0;34m=\u001b[0m\u001b[0mjoin\u001b[0m\u001b[0;34m,\u001b[0m \u001b[0mcopy\u001b[0m\u001b[0;34m=\u001b[0m\u001b[0;32mFalse\u001b[0m\u001b[0;34m,\u001b[0m \u001b[0mexclude\u001b[0m\u001b[0;34m=\u001b[0m\u001b[0;34m[\u001b[0m\u001b[0mdim\u001b[0m\u001b[0;34m]\u001b[0m\u001b[0;34m,\u001b[0m \u001b[0mfill_value\u001b[0m\u001b[0;34m=\u001b[0m\u001b[0mfill_value\u001b[0m\u001b[0;34m\u001b[0m\u001b[0;34m\u001b[0m\u001b[0m\n\u001b[0m\u001b[1;32m    304\u001b[0m     )\n\u001b[1;32m    305\u001b[0m \u001b[0;34m\u001b[0m\u001b[0m\n",
      "\u001b[0;32m~/anaconda3/envs/pyLMD/lib/python3.7/site-packages/xarray/core/alignment.py\u001b[0m in \u001b[0;36malign\u001b[0;34m(join, copy, indexes, exclude, fill_value, *objects)\u001b[0m\n\u001b[1;32m    309\u001b[0m                     \u001b[0;34m\"aligned because they have different dimension size(s) %r \"\u001b[0m\u001b[0;34m\u001b[0m\u001b[0;34m\u001b[0m\u001b[0m\n\u001b[1;32m    310\u001b[0m                     \u001b[0;34m\"than the size of the aligned dimension labels: %r\"\u001b[0m\u001b[0;34m\u001b[0m\u001b[0;34m\u001b[0m\u001b[0m\n\u001b[0;32m--> 311\u001b[0;31m                     \u001b[0;34m%\u001b[0m \u001b[0;34m(\u001b[0m\u001b[0mdim\u001b[0m\u001b[0;34m,\u001b[0m \u001b[0munlabeled_sizes\u001b[0m\u001b[0;34m,\u001b[0m \u001b[0mlabeled_size\u001b[0m\u001b[0;34m)\u001b[0m\u001b[0;34m\u001b[0m\u001b[0;34m\u001b[0m\u001b[0m\n\u001b[0m\u001b[1;32m    312\u001b[0m                 )\n\u001b[1;32m    313\u001b[0m \u001b[0;34m\u001b[0m\u001b[0m\n",
      "\u001b[0;31mValueError\u001b[0m: arguments without labels along dimension 'gpsalt' cannot be aligned because they have different dimension size(s) {1001} than the size of the aligned dimension labels: 3000"
     ]
    }
   ],
   "source": [
    "all_sondes = xr.concat([dropsondes,radiosondes],dim='launch_time')"
   ]
  },
  {
   "cell_type": "code",
   "execution_count": 19,
   "metadata": {
    "ExecuteTime": {
     "end_time": "2020-05-13T13:37:27.178638Z",
     "start_time": "2020-05-13T13:37:27.169718Z"
    }
   },
   "outputs": [
    {
     "name": "stdout",
     "output_type": "stream",
     "text": [
      "<xarray.Dataset>\n",
      "Dimensions:      (gpsalt: 3000, launch_time: 2586)\n",
      "Coordinates:\n",
      "  * gpsalt       (gpsalt) float64 0.0 10.0 20.0 ... 2.998e+04 2.999e+04\n",
      "  * launch_time  (launch_time) datetime64[ns] 2020-01-15T15:19:15 ... 2020-02-16T04:14:33\n",
      "Data variables:\n",
      "    time         (launch_time, gpsalt) datetime64[ns] NaT NaT NaT ... NaT NaT\n",
      "    pres         (launch_time, gpsalt) float64 nan nan nan nan ... nan nan nan\n",
      "    tdry         (launch_time, gpsalt) float64 nan nan nan nan ... nan nan nan\n",
      "    dp           (launch_time, gpsalt) float64 nan nan nan nan ... nan nan nan\n",
      "    rh           (launch_time, gpsalt) float64 nan nan nan nan ... nan nan nan\n",
      "    u_wind       (launch_time, gpsalt) float64 nan nan nan nan ... nan nan nan\n",
      "    v_wind       (launch_time, gpsalt) float64 nan nan nan nan ... nan nan nan\n",
      "    wspd         (launch_time, gpsalt) float64 nan nan nan nan ... nan nan nan\n",
      "    wdir         (launch_time, gpsalt) float64 nan nan nan nan ... nan nan nan\n",
      "    mr           (launch_time, gpsalt) float64 nan nan nan nan ... nan nan nan\n",
      "    theta        (launch_time, gpsalt) float64 nan nan nan nan ... nan nan nan\n",
      "    theta_e      (launch_time, gpsalt) float64 nan nan nan nan ... nan nan nan\n",
      "    theta_v      (launch_time, gpsalt) float64 nan nan nan nan ... nan nan nan\n",
      "    lat          (launch_time, gpsalt) float64 nan nan nan nan ... nan nan nan\n",
      "    lon          (launch_time, gpsalt) float64 nan nan nan nan ... nan nan nan\n",
      "    ascent_flag  (launch_time) float64 0.0 0.0 0.0 0.0 0.0 ... 1.0 0.0 1.0 0.0\n"
     ]
    }
   ],
   "source": [
    "print(all_sondes)"
   ]
  },
  {
   "cell_type": "code",
   "execution_count": 21,
   "metadata": {
    "ExecuteTime": {
     "end_time": "2020-05-13T13:37:56.627963Z",
     "start_time": "2020-05-13T13:37:47.739455Z"
    }
   },
   "outputs": [
    {
     "name": "stderr",
     "output_type": "stream",
     "text": [
      "/Users/bfildier/anaconda3/envs/pyLMD/lib/python3.7/site-packages/ipykernel_launcher.py:1: SerializationWarning: saving variable gpsalt with floating point data as an integer dtype without any _FillValue to use for NaNs\n",
      "  \"\"\"Entry point for launching an IPython kernel.\n"
     ]
    }
   ],
   "source": [
    "all_sondes.to_netcdf(os.path.join(inputdir, \"all_sondes.nc\"))"
   ]
  },
  {
   "cell_type": "code",
   "execution_count": null,
   "metadata": {},
   "outputs": [],
   "source": []
  }
 ],
 "metadata": {
  "hide_input": false,
  "kernelspec": {
   "display_name": "Python 3",
   "language": "python",
   "name": "python3"
  },
  "language_info": {
   "codemirror_mode": {
    "name": "ipython",
    "version": 3
   },
   "file_extension": ".py",
   "mimetype": "text/x-python",
   "name": "python",
   "nbconvert_exporter": "python",
   "pygments_lexer": "ipython3",
   "version": "3.7.6"
  },
  "toc": {
   "base_numbering": 1,
   "nav_menu": {},
   "number_sections": true,
   "sideBar": true,
   "skip_h1_title": false,
   "title_cell": "Table of Contents",
   "title_sidebar": "Contents",
   "toc_cell": false,
   "toc_position": {},
   "toc_section_display": true,
   "toc_window_display": false
  },
  "varInspector": {
   "cols": {
    "lenName": 16,
    "lenType": 16,
    "lenVar": 40
   },
   "kernels_config": {
    "python": {
     "delete_cmd_postfix": "",
     "delete_cmd_prefix": "del ",
     "library": "var_list.py",
     "varRefreshCmd": "print(var_dic_list())"
    },
    "r": {
     "delete_cmd_postfix": ") ",
     "delete_cmd_prefix": "rm(",
     "library": "var_list.r",
     "varRefreshCmd": "cat(var_dic_list()) "
    }
   },
   "types_to_exclude": [
    "module",
    "function",
    "builtin_function_or_method",
    "instance",
    "_Feature"
   ],
   "window_display": false
  }
 },
 "nbformat": 4,
 "nbformat_minor": 4
}
