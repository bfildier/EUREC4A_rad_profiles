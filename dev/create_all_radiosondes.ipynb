{
 "cells": [
  {
   "cell_type": "code",
   "execution_count": 10,
   "metadata": {},
   "outputs": [],
   "source": [
    "from pysolar.solar import *\n",
    "import datetime\n",
    "import argparse\n",
    "import pytz\n",
    "import xarray as xr\n",
    "import numpy as np\n",
    "import os\n",
    "import pytz\n"
   ]
  },
  {
   "cell_type": "code",
   "execution_count": 11,
   "metadata": {},
   "outputs": [],
   "source": [
    "radiosondes_dir = \"/run/media/ludo/DATA/google-drive/Thèse/EUREC4a/github/Input/Radiosondes/\"\n",
    "radiosondes = [\"BCO\", \"Meteor\", \"MS-Merian\", \"RH-Brown\"]"
   ]
  },
  {
   "cell_type": "code",
   "execution_count": 28,
   "metadata": {},
   "outputs": [
    {
     "name": "stdout",
     "output_type": "stream",
     "text": [
      "0\n",
      "1\n",
      "2\n",
      "3\n",
      "<xarray.Dataset>\n",
      "Dimensions:            (gpsalt: 3000, launch_time: 516)\n",
      "Coordinates:\n",
      "  * gpsalt             (gpsalt) float32 0.0 10.0 20.0 ... 29980.0 29990.0\n",
      "  * launch_time        (launch_time) datetime64[ns] 2020-01-16T15:14:58 ... 2020-02-12T12:30:18\n",
      "Data variables:\n",
      "    tdry               (launch_time, gpsalt) float32 nan nan nan ... nan nan nan\n",
      "    dp                 (launch_time, gpsalt) float32 nan nan nan ... nan nan nan\n",
      "    time               (launch_time, gpsalt) datetime64[ns] NaT NaT ... NaT NaT\n",
      "    wspd               (launch_time, gpsalt) float32 nan nan nan ... nan nan nan\n",
      "    pres               (launch_time, gpsalt) float32 nan nan nan ... nan nan nan\n",
      "    u_wind             (launch_time, gpsalt) float32 nan nan nan ... nan nan nan\n",
      "    v_wind             (launch_time, gpsalt) float32 nan nan nan ... nan nan nan\n",
      "    lat                (launch_time, gpsalt) float32 nan nan nan ... nan nan nan\n",
      "    lon                (launch_time, gpsalt) float32 nan nan nan ... nan nan nan\n",
      "    mr                 (launch_time, gpsalt) float32 nan nan nan ... nan nan nan\n",
      "    wdir               (launch_time, gpsalt) float32 nan nan nan ... nan nan nan\n",
      "    specific_humidity  (launch_time, gpsalt) float32 nan nan nan ... nan nan nan\n",
      "    rh                 (launch_time, gpsalt) float32 nan nan nan ... nan nan nan\n",
      "    platform           (launch_time) float64 1.0 1.0 1.0 1.0 ... 3.0 3.0 3.0 3.0\n",
      "    ascent_rate        (launch_time, gpsalt) float32 0.0 nan nan ... nan nan nan\n",
      "    ascent_flag        (launch_time) float64 0.0 0.0 0.0 0.0 ... 0.0 0.0 0.0 0.0\n",
      "Attributes:\n",
      "    title:                     EUREC4A interpolated sounding data\n",
      "    platform_name:             Barbados Cloud Observatory (BCO)\n",
      "    surface_altitude:          20 m\n",
      "    instrument:                Radiosonde RS41 by Vaisala\n",
      "    doi:                       pending\n",
      "    featureType:               trajectory\n",
      "    Conventions:               CF-1.7\n",
      "    history:                   Tue Mar  3 12:00:13 2020: ncrcat EUREC4A_BCO_s...\n",
      "    NCO:                       netCDF Operators version 4.7.5 (Homepage = htt...\n",
      "    nco_openmp_thread_number:  1\n"
     ]
    }
   ],
   "source": [
    "size_rs = len(radiosondes)\n",
    "sondes = []\n",
    "\n",
    "\n",
    "for i in range(0,size_rs):\n",
    "    print(i)\n",
    "    path = radiosondes_dir + \"EUREC4A_\" + radiosondes[i] + \"_soundings.nc\"\n",
    "    radiosonde = xr.open_dataset(path)\n",
    "    radiosonde = radiosonde.swap_dims({'sounding':'launch_time'}).reset_coords()\n",
    "    radiosonde = radiosonde.rename({'temperature':'tdry','altitude':'gpsalt','dew_point':'dp','flight_time':'time',\n",
    "                                    'wind_speed':'wspd','wind_direction':'wdir', 'relative_humidity':'rh', \n",
    "                                    'mixing_ratio':'mr','wind_u':'u_wind','wind_v':'v_wind',\n",
    "                                    'latitude':'lat','longitude':'lon',\"pressure\":\"pres\"})\n",
    "    \n",
    "    radiosonde = radiosonde.where(radiosonde.ascent_flag == False, drop=True)\n",
    "    \n",
    "    sondes.append(radiosonde)\n",
    "    \n",
    "\n",
    "all_radiosondes = xr.concat(sondes, dim='launch_time')\n",
    "print(all_radiosondes)"
   ]
  },
  {
   "cell_type": "code",
   "execution_count": 37,
   "metadata": {},
   "outputs": [],
   "source": [
    "output_dir = \"/run/media/ludo/DATA/google-drive/Thèse/EUREC4a/github/Input/Radiosondes\"\n",
    "output_file = \"all_radiosondes.nc\"\n",
    "all_radiosondes.to_netcdf(os.path.join(output_dir, output_file))"
   ]
  }
 ],
 "metadata": {
  "kernelspec": {
   "display_name": "Python 3",
   "language": "python",
   "name": "python3"
  },
  "language_info": {
   "codemirror_mode": {
    "name": "ipython",
    "version": 3
   },
   "file_extension": ".py",
   "mimetype": "text/x-python",
   "name": "python",
   "nbconvert_exporter": "python",
   "pygments_lexer": "ipython3",
   "version": "3.7.6"
  }
 },
 "nbformat": 4,
 "nbformat_minor": 4
}
