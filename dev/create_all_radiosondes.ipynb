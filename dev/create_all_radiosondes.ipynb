{
 "cells": [
  {
   "cell_type": "code",
   "execution_count": 1,
   "metadata": {
    "ExecuteTime": {
     "end_time": "2020-04-08T14:59:01.668746Z",
     "start_time": "2020-04-08T14:59:00.074562Z"
    }
   },
   "outputs": [],
   "source": [
    "from pysolar.solar import *\n",
    "import datetime\n",
    "import argparse\n",
    "import pytz\n",
    "import xarray as xr\n",
    "import numpy as np\n",
    "import os\n",
    "import pytz\n"
   ]
  },
  {
   "cell_type": "code",
   "execution_count": 30,
   "metadata": {
    "ExecuteTime": {
     "end_time": "2020-04-08T15:39:26.586307Z",
     "start_time": "2020-04-08T15:39:26.583299Z"
    }
   },
   "outputs": [],
   "source": [
    "# radiosondes_dir = \"/run/media/ludo/DATA/google-drive/Thèse/EUREC4a/github/Input/Radiosondes/\"\n",
    "radiosondes_dir = '/Users/bfildier/Data/EUREC4A/radiosondes/'\n",
    "radiosondes = [\"BCO\",\"Meteor\",\"RH-Brown\",\"MS-Merian\",\"Atalante\"]"
   ]
  },
  {
   "cell_type": "code",
   "execution_count": 47,
   "metadata": {
    "ExecuteTime": {
     "end_time": "2020-04-08T15:49:18.742048Z",
     "start_time": "2020-04-08T15:49:17.983674Z"
    },
    "scrolled": false
   },
   "outputs": [
    {
     "name": "stdout",
     "output_type": "stream",
     "text": [
      "0\n",
      "1\n",
      "2\n",
      "3\n",
      "4\n",
      "<xarray.Dataset>\n",
      "Dimensions:            (gpsalt: 3000, launch_time: 1454)\n",
      "Coordinates:\n",
      "  * gpsalt             (gpsalt) float32 0.0 10.0 20.0 ... 29980.0 29990.0\n",
      "    time               (launch_time, gpsalt) datetime64[ns] NaT NaT ... NaT NaT\n",
      "  * launch_time        (launch_time) datetime64[ns] 2020-01-16T15:14:58 ... 2020-02-16T04:14:33\n",
      "    lat                (launch_time, gpsalt) float32 nan nan nan ... nan nan nan\n",
      "    lon                (launch_time, gpsalt) float32 nan nan nan ... nan nan nan\n",
      "Data variables:\n",
      "    tdry               (launch_time, gpsalt) float32 nan nan nan ... nan nan nan\n",
      "    dp                 (launch_time, gpsalt) float32 nan nan nan ... nan nan nan\n",
      "    wspd               (launch_time, gpsalt) float32 nan nan nan ... nan nan nan\n",
      "    pres               (launch_time, gpsalt) float32 nan nan nan ... nan nan nan\n",
      "    u_wind             (launch_time, gpsalt) float32 nan nan nan ... nan nan nan\n",
      "    v_wind             (launch_time, gpsalt) float32 nan nan nan ... nan nan nan\n",
      "    mr                 (launch_time, gpsalt) float32 nan nan nan ... nan nan nan\n",
      "    wdir               (launch_time, gpsalt) float32 nan nan nan ... nan nan nan\n",
      "    specific_humidity  (launch_time, gpsalt) float32 nan nan nan ... nan nan nan\n",
      "    rh                 (launch_time, gpsalt) float32 nan nan nan ... nan nan nan\n",
      "    platform           (launch_time) uint8 1 1 1 1 1 1 1 1 1 ... 5 5 5 5 5 5 5 5\n",
      "    ascent_rate        (launch_time, gpsalt) float32 0.0 nan nan ... nan nan nan\n",
      "    ascent_flag        (launch_time) bool False True False ... False True False\n",
      "Attributes:\n",
      "    title:                     EUREC4A interpolated sounding data\n",
      "    surface_altitude:          20 m\n",
      "    doi:                       pending\n",
      "    featureType:               trajectory\n",
      "    Conventions:               CF-1.7\n",
      "    history:                   Tue Mar 10 14:56:25 2020: ncrcat EUREC4A_BCO_s...\n",
      "    NCO:                       netCDF Operators version 4.7.5 (Homepage = htt...\n",
      "    nco_openmp_thread_number:  1\n"
     ]
    }
   ],
   "source": [
    "size_rs = len(radiosondes)\n",
    "sondes = []\n",
    "\n",
    "\n",
    "for i in range(0,size_rs):\n",
    "    print(i)\n",
    "    path = radiosondes_dir + \"EUREC4A_\" + radiosondes[i] + \"_soundings.nc\"\n",
    "    radiosonde = xr.open_dataset(path)\n",
    "    radiosonde = radiosonde.swap_dims({'sounding':'launch_time'})#.reset_coords()\n",
    "    radiosonde = radiosonde.rename({'temperature':'tdry','altitude':'gpsalt','dew_point':'dp','flight_time':'time',\n",
    "                                    'wind_speed':'wspd','wind_direction':'wdir', 'relative_humidity':'rh', \n",
    "                                    'mixing_ratio':'mr','wind_u':'u_wind','wind_v':'v_wind',\n",
    "                                    'latitude':'lat','longitude':'lon',\"pressure\":\"pres\"})\n",
    "    \n",
    "#     radiosonde = radiosonde.where(radiosonde.ascent_flag == False, drop=True)\n",
    "    \n",
    "    sondes.append(radiosonde)\n",
    "    \n",
    "\n",
    "all_radiosondes = xr.concat(sondes, dim='launch_time')\n",
    "all_radiosondes.launch_time.encoding['units'] = \"seconds since 1970-01-01T00:00:00+00:00\"\n",
    "del all_radiosondes.attrs['platform_name']\n",
    "del all_radiosondes.attrs['instrument']\n",
    "\n",
    "print(all_radiosondes)"
   ]
  },
  {
   "cell_type": "code",
   "execution_count": 48,
   "metadata": {
    "ExecuteTime": {
     "end_time": "2020-04-08T15:49:22.994560Z",
     "start_time": "2020-04-08T15:49:18.796554Z"
    }
   },
   "outputs": [],
   "source": [
    "# output_dir = \"/run/media/ludo/DATA/google-drive/Thèse/EUREC4a/github/Input/Radiosondes\"\n",
    "output_dir = '/Users/bfildier/Data/EUREC4A/merged/radiosondes'\n",
    "output_file = \"all_radiosondes.nc\"\n",
    "# all_radiosondes.to_netcdf(os.path.join(output_dir, output_file))\n",
    "all_radiosondes.to_netcdf(output_file)"
   ]
  },
  {
   "cell_type": "code",
   "execution_count": null,
   "metadata": {},
   "outputs": [],
   "source": []
  }
 ],
 "metadata": {
  "hide_input": false,
  "kernelspec": {
   "display_name": "Python 3",
   "language": "python",
   "name": "python3"
  },
  "language_info": {
   "codemirror_mode": {
    "name": "ipython",
    "version": 3
   },
   "file_extension": ".py",
   "mimetype": "text/x-python",
   "name": "python",
   "nbconvert_exporter": "python",
   "pygments_lexer": "ipython3",
   "version": "3.7.6"
  },
  "toc": {
   "base_numbering": 1,
   "nav_menu": {},
   "number_sections": true,
   "sideBar": true,
   "skip_h1_title": false,
   "title_cell": "Table of Contents",
   "title_sidebar": "Contents",
   "toc_cell": false,
   "toc_position": {},
   "toc_section_display": true,
   "toc_window_display": false
  },
  "varInspector": {
   "cols": {
    "lenName": 16,
    "lenType": 16,
    "lenVar": 40
   },
   "kernels_config": {
    "python": {
     "delete_cmd_postfix": "",
     "delete_cmd_prefix": "del ",
     "library": "var_list.py",
     "varRefreshCmd": "print(var_dic_list())"
    },
    "r": {
     "delete_cmd_postfix": ") ",
     "delete_cmd_prefix": "rm(",
     "library": "var_list.r",
     "varRefreshCmd": "cat(var_dic_list()) "
    }
   },
   "types_to_exclude": [
    "module",
    "function",
    "builtin_function_or_method",
    "instance",
    "_Feature"
   ],
   "window_display": false
  }
 },
 "nbformat": 4,
 "nbformat_minor": 4
}
