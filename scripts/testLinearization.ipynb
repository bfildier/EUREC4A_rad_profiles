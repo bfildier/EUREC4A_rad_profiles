{
 "cells": [
  {
   "cell_type": "code",
   "execution_count": 1,
   "metadata": {
    "ExecuteTime": {
     "end_time": "2020-06-11T14:56:46.189171Z",
     "start_time": "2020-06-11T14:56:45.008840Z"
    }
   },
   "outputs": [],
   "source": [
    "# load modules\n",
    "\n",
    "import matplotlib.pyplot as plt\n",
    "import argparse\n",
    "import os,glob\n",
    "from datetime import datetime\n",
    "\n",
    "import numpy as np\n",
    "import xarray as xr"
   ]
  },
  {
   "cell_type": "code",
   "execution_count": 2,
   "metadata": {
    "ExecuteTime": {
     "end_time": "2020-06-11T14:56:46.749017Z",
     "start_time": "2020-06-11T14:56:46.745670Z"
    }
   },
   "outputs": [],
   "source": [
    "#%% Define directories\n",
    "\n",
    "# current dir\n",
    "wdir = os.getcwd()\n",
    "# data dir\n",
    "ddir = os.path.join(os.path.dirname(wdir),'output/linear_model')"
   ]
  },
  {
   "cell_type": "code",
   "execution_count": 3,
   "metadata": {
    "ExecuteTime": {
     "end_time": "2020-06-11T14:56:47.498406Z",
     "start_time": "2020-06-11T14:56:47.454996Z"
    }
   },
   "outputs": [],
   "source": [
    "#%% Load data\n",
    "\n",
    "profiles = xr.open_dataset(os.path.join(ddir,'rad_profiles.nc'))"
   ]
  },
  {
   "cell_type": "code",
   "execution_count": 4,
   "metadata": {
    "ExecuteTime": {
     "end_time": "2020-06-11T14:56:48.848959Z",
     "start_time": "2020-06-11T14:56:48.830117Z"
    }
   },
   "outputs": [
    {
     "data": {
      "text/html": [
       "<pre>&lt;xarray.Dataset&gt;\n",
       "Dimensions:      (launch_time: 199, play: 99, plev: 100)\n",
       "Coordinates:\n",
       "  * plev         (plev) float64 1e+03 2e+03 3e+03 ... 9.8e+04 9.9e+04 1e+05\n",
       "  * play         (play) float64 1.5e+03 2.5e+03 3.5e+03 ... 9.85e+04 9.95e+04\n",
       "  * launch_time  (launch_time) datetime64[ns] 2020-02-01 ... 2020-02-01\n",
       "Data variables:\n",
       "    platform     (launch_time) object ...\n",
       "    tlay         (launch_time, play) float64 ...\n",
       "    h2o          (launch_time, play) float64 ...\n",
       "    zlay         (launch_time, play) float64 ...\n",
       "    zlev         (launch_time, plev) float64 ...\n",
       "    sfc_emis     (launch_time) float64 ...\n",
       "    sfc_alb      (launch_time) float64 ...\n",
       "    sfc_t        (launch_time) float64 ...\n",
       "    cos_sza      (launch_time) float64 ...\n",
       "    lw_dn        (launch_time, plev) float64 ...\n",
       "    lw_up        (launch_time, plev) float64 ...\n",
       "    lw_net       (launch_time, plev) float64 ...\n",
       "    sw_dn        (launch_time, plev) float64 ...\n",
       "    sw_up        (launch_time, plev) float64 ...\n",
       "    sw_net       (launch_time, plev) float64 ...\n",
       "    co2          (launch_time, play) float64 ...\n",
       "    ch4          (launch_time, play) float64 ...\n",
       "    n2o          (launch_time, play) float64 ...\n",
       "    o3           (launch_time, play) float64 ...\n",
       "    o2           (launch_time, play) float64 ...\n",
       "    n2           (launch_time, play) float64 ...\n",
       "    co           (launch_time, play) float64 ...\n",
       "    mr           (launch_time, play) float64 ...\n",
       "    rho          (launch_time, play) float64 ...\n",
       "    q_rad        (launch_time, play) float64 ...\n",
       "    q_rad_lw     (launch_time, play) float64 ...\n",
       "    q_rad_sw     (launch_time, play) float64 ...</pre>"
      ],
      "text/plain": [
       "<xarray.Dataset>\n",
       "Dimensions:      (launch_time: 199, play: 99, plev: 100)\n",
       "Coordinates:\n",
       "  * plev         (plev) float64 1e+03 2e+03 3e+03 ... 9.8e+04 9.9e+04 1e+05\n",
       "  * play         (play) float64 1.5e+03 2.5e+03 3.5e+03 ... 9.85e+04 9.95e+04\n",
       "  * launch_time  (launch_time) datetime64[ns] 2020-02-01 ... 2020-02-01\n",
       "Data variables:\n",
       "    platform     (launch_time) object ...\n",
       "    tlay         (launch_time, play) float64 ...\n",
       "    h2o          (launch_time, play) float64 ...\n",
       "    zlay         (launch_time, play) float64 ...\n",
       "    zlev         (launch_time, plev) float64 ...\n",
       "    sfc_emis     (launch_time) float64 ...\n",
       "    sfc_alb      (launch_time) float64 ...\n",
       "    sfc_t        (launch_time) float64 ...\n",
       "    cos_sza      (launch_time) float64 ...\n",
       "    lw_dn        (launch_time, plev) float64 ...\n",
       "    lw_up        (launch_time, plev) float64 ...\n",
       "    lw_net       (launch_time, plev) float64 ...\n",
       "    sw_dn        (launch_time, plev) float64 ...\n",
       "    sw_up        (launch_time, plev) float64 ...\n",
       "    sw_net       (launch_time, plev) float64 ...\n",
       "    co2          (launch_time, play) float64 ...\n",
       "    ch4          (launch_time, play) float64 ...\n",
       "    n2o          (launch_time, play) float64 ...\n",
       "    o3           (launch_time, play) float64 ...\n",
       "    o2           (launch_time, play) float64 ...\n",
       "    n2           (launch_time, play) float64 ...\n",
       "    co           (launch_time, play) float64 ...\n",
       "    mr           (launch_time, play) float64 ...\n",
       "    rho          (launch_time, play) float64 ...\n",
       "    q_rad        (launch_time, play) float64 ...\n",
       "    q_rad_lw     (launch_time, play) float64 ...\n",
       "    q_rad_sw     (launch_time, play) float64 ..."
      ]
     },
     "execution_count": 4,
     "metadata": {},
     "output_type": "execute_result"
    }
   ],
   "source": [
    "profiles"
   ]
  },
  {
   "cell_type": "code",
   "execution_count": 25,
   "metadata": {
    "ExecuteTime": {
     "end_time": "2020-06-11T15:05:08.961782Z",
     "start_time": "2020-06-11T15:05:08.952434Z"
    }
   },
   "outputs": [],
   "source": [
    "# perturbations\n",
    "dT = 1 # K\n",
    "dq = 0.001 # kg/kg\n",
    "\n",
    "# number of levels\n",
    "Np = profiles.play.size\n",
    "# range of perturbed T\n",
    "s_dT = slice(1,1+Np)\n",
    "# range of perturbed q\n",
    "s_dq = slice(1+Np,1+2*Np)\n",
    "\n",
    "# Jacobian matrix dQrad/dX for X = T and q:\n",
    "J_T_qrad = (profiles.q_rad[s_dT] - np.repeat(profiles.q_rad[0].values[...,np.newaxis],Np,axis=-1))/dT\n",
    "J_q_qrad = (profiles.q_rad[s_dq] - np.repeat(profiles.q_rad[0].values[...,np.newaxis],Np,axis=-1))/dq"
   ]
  },
  {
   "cell_type": "code",
   "execution_count": 28,
   "metadata": {
    "ExecuteTime": {
     "end_time": "2020-06-11T15:05:59.488488Z",
     "start_time": "2020-06-11T15:05:59.283219Z"
    }
   },
   "outputs": [
    {
     "data": {
      "text/plain": [
       "<matplotlib.image.AxesImage at 0x31ec67f90>"
      ]
     },
     "execution_count": 28,
     "metadata": {},
     "output_type": "execute_result"
    },
    {
     "data": {
      "image/png": "[encoded data removed]",
      "text/plain": [
       "<Figure size 792x360 with 2 Axes>"
      ]
     },
     "metadata": {
      "needs_background": "light"
     },
     "output_type": "display_data"
    }
   ],
   "source": [
    "fig,ax = plt.subplots(ncols=2,figsize=(11,5))\n",
    "\n",
    "ax[0].imshow(J_T_qrad)\n",
    "ax[1].imshow(J_q_qrad)"
   ]
  },
  {
   "cell_type": "code",
   "execution_count": null,
   "metadata": {},
   "outputs": [],
   "source": []
  }
 ],
 "metadata": {
  "hide_input": false,
  "kernelspec": {
   "display_name": "Python 3",
   "language": "python",
   "name": "python3"
  },
  "toc": {
   "base_numbering": 1,
   "nav_menu": {},
   "number_sections": true,
   "sideBar": true,
   "skip_h1_title": false,
   "title_cell": "Table of Contents",
   "title_sidebar": "Contents",
   "toc_cell": false,
   "toc_position": {},
   "toc_section_display": true,
   "toc_window_display": false
  },
  "varInspector": {
   "cols": {
    "lenName": 16,
    "lenType": 16,
    "lenVar": 40
   },
   "kernels_config": {
    "python": {
     "delete_cmd_postfix": "",
     "delete_cmd_prefix": "del ",
     "library": "var_list.py",
     "varRefreshCmd": "print(var_dic_list())"
    },
    "r": {
     "delete_cmd_postfix": ") ",
     "delete_cmd_prefix": "rm(",
     "library": "var_list.r",
     "varRefreshCmd": "cat(var_dic_list()) "
    }
   },
   "types_to_exclude": [
    "module",
    "function",
    "builtin_function_or_method",
    "instance",
    "_Feature"
   ],
   "window_display": false
  }
 },
 "nbformat": 4,
 "nbformat_minor": 4
}
