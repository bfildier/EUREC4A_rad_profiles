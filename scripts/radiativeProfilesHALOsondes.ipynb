{
 "cells": [
  {
   "cell_type": "code",
<<<<<<< HEAD
   "execution_count": 1,
=======
   "execution_count": 2,
>>>>>>> 2cc88b89ce010e02a733bafe73aadc2b8e12471c
   "metadata": {
    "ExecuteTime": {
     "end_time": "2020-02-03T16:39:03.593130Z",
     "start_time": "2020-02-03T16:39:03.298015Z"
    }
   },
   "outputs": [],
   "source": [
    "%load_ext autoreload\n",
    "%matplotlib inline"
   ]
  },
  {
   "cell_type": "code",
<<<<<<< HEAD
   "execution_count": 8,
=======
   "execution_count": 7,
>>>>>>> 2cc88b89ce010e02a733bafe73aadc2b8e12471c
   "metadata": {
    "ExecuteTime": {
     "end_time": "2020-02-03T16:40:36.512693Z",
     "start_time": "2020-02-03T16:40:36.458075Z"
    }
   },
   "outputs": [
    {
     "name": "stdout",
     "output_type": "stream",
     "text": [
<<<<<<< HEAD
      "repo: /Users/bfildier/Code/analyses/EUREC4A/EUREC4A_rad_profiles\n",
      "Own modules available: []\n"
=======
      "repo: /run/media/ludo/DATA/google-drive/Thèse/EUREC4a/github/EUREC4A_rad_profiles\n"
>>>>>>> 2cc88b89ce010e02a733bafe73aadc2b8e12471c
     ]
    }
   ],
   "source": [
    "%autoreload 2\n",
    "\n",
    "import numpy as np\n",
    "import pandas as pd\n",
    "import matplotlib\n",
    "import matplotlib.pyplot as plt\n",
    "import matplotlib.colors as colors\n",
    "import matplotlib.cm as cmx\n",
    "import xarray as xr\n",
    "\n",
    "import os,sys,glob\n",
    "import re\n",
    "\n",
    "## Add own library to path\n",
    "workdir = os.getcwd()\n",
    "repodir = workdir\n",
    "projectname = 'EUREC4A_rad_profiles'\n",
    "while os.path.basename(repodir) != projectname:\n",
    "    repodir = os.path.dirname(repodir)\n",
    "print('repo:',repodir)\n",
    "thismodule = sys.modules[__name__]\n",
    "\n",
    "\n",
    "inputdir = os.path.join(repodir,'input/HALO/20200124/AVAPS_Dropsondes/processed/',)\n",
    "figdir = os.path.join(repodir,'figures')\n",
    "moviedir = os.path.join(repodir,'movies')\n",
    "\n",
    "## Graphical parameters\n",
<<<<<<< HEAD
    "# plt.style.use(os.path.join(matplotlib.get_configdir(),'stylelib/presentation.mplstyle'))"
=======
    "#plt.style.use(os.path.join(matplotlib.get_configdir(),'stylelib/presentation.mplstyle'))"
>>>>>>> 2cc88b89ce010e02a733bafe73aadc2b8e12471c
   ]
  },
  {
   "cell_type": "code",
<<<<<<< HEAD
   "execution_count": 9,
=======
   "execution_count": 8,
>>>>>>> 2cc88b89ce010e02a733bafe73aadc2b8e12471c
   "metadata": {
    "ExecuteTime": {
     "end_time": "2020-02-03T16:40:38.087929Z",
     "start_time": "2020-02-03T16:40:38.057596Z"
    }
   },
   "outputs": [],
   "source": [
    "inputfiles = glob.glob(os.path.join(inputdir,'D*_PQC.nc'))\n",
    "inputfiles.sort()"
   ]
  },
  {
   "cell_type": "code",
<<<<<<< HEAD
   "execution_count": 11,
=======
   "execution_count": 9,
>>>>>>> 2cc88b89ce010e02a733bafe73aadc2b8e12471c
   "metadata": {
    "ExecuteTime": {
     "end_time": "2020-02-03T16:40:43.555517Z",
     "start_time": "2020-02-03T16:40:41.390940Z"
    }
   },
   "outputs": [],
   "source": [
    "data = []\n",
    "\n",
    "for file in inputfiles :\n",
    "    data.append(xr.open_dataset(file).dropna(dim='time',subset=['time']).\\\n",
    "                swap_dims({'time':'pres'}).reset_coords().\\\n",
    "                dropna(dim='pres',subset=['alt','pres','u_wind','v_wind','lat','lon','mr'],how='any'))\n",
    "\n",
    "Nsondes = len(data)"
   ]
  },
  {
   "cell_type": "code",
<<<<<<< HEAD
   "execution_count": 28,
   "metadata": {
    "ExecuteTime": {
     "end_time": "2020-02-03T16:55:49.518466Z",
     "start_time": "2020-02-03T16:55:49.486469Z"
    }
   },
   "outputs": [
    {
     "data": {
      "text/plain": [
       "<xarray.DataArray 'time' (pres: 1336)>\n",
       "array(['2020-01-24T10:03:09.500000000', '2020-01-24T10:03:09.000000000',\n",
       "       '2020-01-24T10:03:08.000000000', ..., '2020-01-24T09:50:50.000000000',\n",
       "       '2020-01-24T09:50:49.500000000', '2020-01-24T09:50:49.000000000'],\n",
       "      dtype='datetime64[ns]')\n",
       "Coordinates:\n",
       "  * pres     (pres) float32 1011.2242 1010.6516 ... 306.59796 306.21866\n",
       "Attributes:\n",
       "    long_name:  time since launch time\n",
       "    axis:       T"
      ]
     },
     "execution_count": 28,
     "metadata": {},
     "output_type": "execute_result"
    }
   ],
   "source": [
    "data[0].time"
   ]
  },
  {
   "cell_type": "code",
   "execution_count": 51,
   "metadata": {
    "ExecuteTime": {
     "end_time": "2020-02-03T17:21:06.308458Z",
     "start_time": "2020-02-03T17:21:06.267038Z"
    },
    "scrolled": false
   },
   "outputs": [
    {
     "name": "stdout",
     "output_type": "stream",
     "text": [
      "extract time information for solar zenith angle calculation\n",
      "2020-01-24T10:03:09.500000000\n",
      "2020-01-24 10:03:09+00:00\n",
      "UTC\n",
      "-4.974205972886262\n",
      "0.9474368578953785\n"
     ]
    }
   ],
   "source": [
    "print(\"extract time information for solar zenith angle calculation\")\n",
    "\n",
    "import datetime\n",
    "import pytz\n",
    "from pysolar.solar import *\n",
    "print(data[0].time.values[0])\n",
    "date = datetime.datetime.strptime(str(data[0].time.values[0]).split('.')[0],'%Y-%m-%dT%H:%M:%S')\n",
    "timezone = pytz.timezone(\"UTC\")\n",
    "date = timezone.localize(date)\n",
    "print(date)\n",
    "print(date.tzinfo)\n",
    "\n",
    "lon = data[0].lon[0].values\n",
    "lat = data[0].lat[0].values\n",
    "\n",
    "alt_sol = get_altitude(lat,lon, date)\n",
    "azim = np.sin(theta_sol*np.pi/180)\n",
    "print(azim)"
   ]
  },
  {
   "cell_type": "code",
   "execution_count": 60,
   "metadata": {
    "ExecuteTime": {
     "end_time": "2020-02-03T17:26:51.454923Z",
     "start_time": "2020-02-03T17:26:51.420155Z"
    }
   },
   "outputs": [
    {
     "data": {
      "text/plain": [
       "25.768162"
      ]
     },
     "execution_count": 60,
     "metadata": {},
     "output_type": "execute_result"
    }
   ],
   "source": [
    "data[0].tdry.values[0]"
   ]
  },
  {
   "cell_type": "code",
   "execution_count": 32,
=======
   "execution_count": null,
>>>>>>> 2cc88b89ce010e02a733bafe73aadc2b8e12471c
   "metadata": {
    "ExecuteTime": {
     "end_time": "2020-02-03T17:00:21.191252Z",
     "start_time": "2020-02-03T17:00:21.119885Z"
    }
   },
   "outputs": [],
   "source": [
    "# Get min and max\n",
    "pres_min = np.floor(np.min([data[i].pres.min() for i in range(Nsondes)]))\n",
    "pres_max = np.ceil(np.max([data[i].pres.max() for i in range(Nsondes)]))\n",
    "\n",
    "print('min,max = ',pres_min, pres_max)"
   ]
  },
  {
   "cell_type": "code",
   "execution_count": null,
   "metadata": {
    "ExecuteTime": {
     "end_time": "2020-01-30T15:55:51.963319Z",
     "start_time": "2020-01-30T15:55:37.680854Z"
    }
   },
   "outputs": [],
   "source": [
    "# interpolate on same grid\n",
    "data_interp = []\n",
    "\n",
    "for i in range(Nsondes) :\n",
    "    data_interp.append(data[i].interp(pres=np.arange(pres_min,pres_max,1)))"
   ]
  },
  {
   "cell_type": "code",
   "execution_count": null,
   "metadata": {
    "ExecuteTime": {
     "end_time": "2020-01-30T15:57:19.843671Z",
     "start_time": "2020-01-30T15:57:19.676034Z"
    }
   },
   "outputs": [],
   "source": [
    "combined = xr.concat(data_interp[:],dim='sonde_no')"
   ]
  },
  {
   "cell_type": "code",
   "execution_count": null,
   "metadata": {
    "ExecuteTime": {
     "end_time": "2020-01-30T16:03:42.290078Z",
     "start_time": "2020-01-30T16:03:42.137144Z"
    }
   },
   "outputs": [],
   "source": [
    "ax = plt.plot(combined.mr.mean(dim='sonde_no'),combined.pres)\n",
    "ax.revert('y')\n",
    "plt.show()"
   ]
  },
  {
   "cell_type": "code",
   "execution_count": null,
   "metadata": {},
   "outputs": [],
   "source": []
  },
  {
   "cell_type": "code",
   "execution_count": null,
   "metadata": {},
   "outputs": [],
   "source": []
  }
 ],
 "metadata": {
  "hide_input": false,
  "kernelspec": {
   "display_name": "Python 3",
   "language": "python",
   "name": "python3"
  },
  "language_info": {
   "codemirror_mode": {
    "name": "ipython",
    "version": 3
   },
   "file_extension": ".py",
   "mimetype": "text/x-python",
   "name": "python",
   "nbconvert_exporter": "python",
   "pygments_lexer": "ipython3",
   "version": "3.7.4"
  },
  "toc": {
   "base_numbering": 1,
   "nav_menu": {},
   "number_sections": true,
   "sideBar": true,
   "skip_h1_title": false,
   "title_cell": "Table of Contents",
   "title_sidebar": "Contents",
   "toc_cell": false,
   "toc_position": {},
   "toc_section_display": true,
   "toc_window_display": false
  },
  "varInspector": {
   "cols": {
    "lenName": 16,
    "lenType": 16,
    "lenVar": 40
   },
   "kernels_config": {
    "python": {
     "delete_cmd_postfix": "",
     "delete_cmd_prefix": "del ",
     "library": "var_list.py",
     "varRefreshCmd": "print(var_dic_list())"
    },
    "r": {
     "delete_cmd_postfix": ") ",
     "delete_cmd_prefix": "rm(",
     "library": "var_list.r",
     "varRefreshCmd": "cat(var_dic_list()) "
    }
   },
   "types_to_exclude": [
    "module",
    "function",
    "builtin_function_or_method",
    "instance",
    "_Feature"
   ],
   "window_display": false
  }
 },
 "nbformat": 4,
 "nbformat_minor": 2
}
