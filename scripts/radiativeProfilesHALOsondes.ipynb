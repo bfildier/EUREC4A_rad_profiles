{
 "cells": [
  {
   "cell_type": "code",
   "execution_count": 2,
   "metadata": {
    "ExecuteTime": {
     "end_time": "2020-01-30T15:34:57.683430Z",
     "start_time": "2020-01-30T15:34:57.651640Z"
    }
   },
   "outputs": [],
   "source": [
    "%load_ext autoreload\n",
    "%matplotlib inline"
   ]
  },
  {
   "cell_type": "code",
   "execution_count": 7,
   "metadata": {
    "ExecuteTime": {
     "end_time": "2020-01-30T16:16:03.614789Z",
     "start_time": "2020-01-30T16:16:03.540145Z"
    }
   },
   "outputs": [
    {
     "name": "stdout",
     "output_type": "stream",
     "text": [
      "repo: /run/media/ludo/DATA/google-drive/Thèse/EUREC4a/github/EUREC4A_rad_profiles\n"
     ]
    }
   ],
   "source": [
    "%autoreload 2\n",
    "\n",
    "import numpy as np\n",
    "import pandas as pd\n",
    "import matplotlib\n",
    "import matplotlib.pyplot as plt\n",
    "import matplotlib.colors as colors\n",
    "import matplotlib.cm as cmx\n",
    "import xarray as xr\n",
    "\n",
    "import os,sys,glob\n",
    "import re\n",
    "\n",
    "## Add own library to path\n",
    "workdir = os.getcwd()\n",
    "repodir = workdir\n",
    "projectname = 'EUREC4A_rad_profiles'\n",
    "while os.path.basename(repodir) != projectname:\n",
    "    repodir = os.path.dirname(repodir)\n",
    "print('repo:',repodir)\n",
    "thismodule = sys.modules[__name__]\n",
    "\n",
    "\n",
    "inputdir = os.path.join(repodir,'input/HALO/20200124/AVAPS_Dropsondes/processed/',)\n",
    "figdir = os.path.join(repodir,'figures')\n",
    "moviedir = os.path.join(repodir,'movies')\n",
    "\n",
    "## Graphical parameters\n",
    "#plt.style.use(os.path.join(matplotlib.get_configdir(),'stylelib/presentation.mplstyle'))"
   ]
  },
  {
   "cell_type": "code",
   "execution_count": 8,
   "metadata": {
    "ExecuteTime": {
     "end_time": "2020-01-30T16:16:05.622361Z",
     "start_time": "2020-01-30T16:16:05.598857Z"
    }
   },
   "outputs": [],
   "source": [
    "inputfiles = glob.glob(os.path.join(inputdir,'D*_PQC.nc'))\n",
    "inputfiles.sort()"
   ]
  },
  {
   "cell_type": "code",
   "execution_count": 9,
   "metadata": {
    "ExecuteTime": {
     "end_time": "2020-01-30T15:47:30.816694Z",
     "start_time": "2020-01-30T15:47:28.710595Z"
    }
   },
   "outputs": [],
   "source": [
    "data = []\n",
    "\n",
    "for file in inputfiles :\n",
    "    data.append(xr.open_dataset(file).dropna(dim='time',subset=['time']).\\\n",
    "                swap_dims({'time':'pres'}).reset_coords().\\\n",
    "                dropna(dim='pres',subset=['alt','pres','u_wind','v_wind','lat','lon','mr'],how='any'))\n",
    "\n",
    "Nsondes = len(data)"
   ]
  },
  {
   "cell_type": "code",
   "execution_count": null,
   "metadata": {
    "ExecuteTime": {
     "end_time": "2020-01-30T15:50:45.983701Z",
     "start_time": "2020-01-30T15:50:45.905083Z"
    }
   },
   "outputs": [],
   "source": [
    "# Get min and max\n",
    "pres_min = np.floor(np.min([data[i].pres.min() for i in range(Nsondes)]))\n",
    "pres_max = np.ceil(np.max([data[i].pres.max() for i in range(Nsondes)]))\n",
    "\n",
    "print('min,max = ',pres_min, pres_max)"
   ]
  },
  {
   "cell_type": "code",
   "execution_count": null,
   "metadata": {
    "ExecuteTime": {
     "end_time": "2020-01-30T15:55:51.963319Z",
     "start_time": "2020-01-30T15:55:37.680854Z"
    }
   },
   "outputs": [],
   "source": [
    "# interpolate on same grid\n",
    "data_interp = []\n",
    "\n",
    "for i in range(Nsondes) :\n",
    "    data_interp.append(data[i].interp(pres=np.arange(pres_min,pres_max,1)))"
   ]
  },
  {
   "cell_type": "code",
   "execution_count": null,
   "metadata": {
    "ExecuteTime": {
     "end_time": "2020-01-30T15:57:19.843671Z",
     "start_time": "2020-01-30T15:57:19.676034Z"
    }
   },
   "outputs": [],
   "source": [
    "combined = xr.concat(data_interp[:],dim='sonde_no')"
   ]
  },
  {
   "cell_type": "code",
   "execution_count": null,
   "metadata": {
    "ExecuteTime": {
     "end_time": "2020-01-30T16:03:42.290078Z",
     "start_time": "2020-01-30T16:03:42.137144Z"
    }
   },
   "outputs": [],
   "source": [
    "ax = plt.plot(combined.mr.mean(dim='sonde_no'),combined.pres)\n",
    "ax.revert('y')\n",
    "plt.show()"
   ]
  },
  {
   "cell_type": "code",
   "execution_count": null,
   "metadata": {},
   "outputs": [],
   "source": []
  },
  {
   "cell_type": "code",
   "execution_count": null,
   "metadata": {},
   "outputs": [],
   "source": []
  }
 ],
 "metadata": {
  "hide_input": false,
  "kernelspec": {
   "display_name": "Python 3",
   "language": "python",
   "name": "python3"
  },
  "language_info": {
   "codemirror_mode": {
    "name": "ipython",
    "version": 3
   },
   "file_extension": ".py",
   "mimetype": "text/x-python",
   "name": "python",
   "nbconvert_exporter": "python",
   "pygments_lexer": "ipython3",
   "version": "3.7.6"
  },
  "toc": {
   "base_numbering": 1,
   "nav_menu": {},
   "number_sections": true,
   "sideBar": true,
   "skip_h1_title": false,
   "title_cell": "Table of Contents",
   "title_sidebar": "Contents",
   "toc_cell": false,
   "toc_position": {},
   "toc_section_display": true,
   "toc_window_display": false
  },
  "varInspector": {
   "cols": {
    "lenName": 16,
    "lenType": 16,
    "lenVar": 40
   },
   "kernels_config": {
    "python": {
     "delete_cmd_postfix": "",
     "delete_cmd_prefix": "del ",
     "library": "var_list.py",
     "varRefreshCmd": "print(var_dic_list())"
    },
    "r": {
     "delete_cmd_postfix": ") ",
     "delete_cmd_prefix": "rm(",
     "library": "var_list.r",
     "varRefreshCmd": "cat(var_dic_list()) "
    }
   },
   "types_to_exclude": [
    "module",
    "function",
    "builtin_function_or_method",
    "instance",
    "_Feature"
   ],
   "window_display": false
  }
 },
 "nbformat": 4,
 "nbformat_minor": 2
}
