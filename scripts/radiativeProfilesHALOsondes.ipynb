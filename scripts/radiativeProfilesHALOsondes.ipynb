{
 "cells": [
  {
   "cell_type": "code",
   "execution_count": 2,
   "metadata": {
    "ExecuteTime": {
     "end_time": "2020-02-06T14:30:18.409301Z",
     "start_time": "2020-02-06T14:30:18.013032Z"
    }
   },
   "outputs": [],
   "source": [
    "%load_ext autoreload\n",
    "%matplotlib inline"
   ]
  },
  {
   "cell_type": "code",
   "execution_count": 3,
   "metadata": {
    "ExecuteTime": {
     "end_time": "2020-02-06T14:30:19.852497Z",
     "start_time": "2020-02-06T14:30:18.678995Z"
    }
   },
   "outputs": [
    {
     "name": "stderr",
     "output_type": "stream",
     "text": [
      "/Users/bfildier/anaconda3/envs/pyLMD/lib/python3.7/site-packages/xarray/core/merge.py:17: FutureWarning: The Panel class is removed from pandas. Accessing it from the top-level namespace will also be removed in the next version\n",
      "  PANDAS_TYPES = (pd.Series, pd.DataFrame, pd.Panel)\n"
     ]
    },
    {
     "name": "stdout",
     "output_type": "stream",
     "text": [
      "repo: /Users/bfildier/Code/analyses/EUREC4A/EUREC4A_rad_profiles\n",
      "Own modules available: []\n"
     ]
    }
   ],
   "source": [
    "%autoreload 2\n",
    "\n",
    "import numpy as np\n",
    "import pandas as pd\n",
    "import matplotlib\n",
    "import matplotlib.pyplot as plt\n",
    "import matplotlib.colors as colors\n",
    "import matplotlib.cm as cmx\n",
    "import xarray as xr\n",
    "\n",
    "import os,sys,glob\n",
    "import re\n",
    "\n",
    "## Add own library to path\n",
    "workdir = os.getcwd()\n",
    "repodir = workdir\n",
    "projectname = 'EUREC4A_rad_profiles'\n",
    "while os.path.basename(repodir) != projectname:\n",
    "    repodir = os.path.dirname(repodir)\n",
    "print('repo:',repodir)\n",
    "thismodule = sys.modules[__name__]\n",
    "## Own functions\n",
    "moduledir = os.path.join(repodir,'functions')\n",
    "sys.path.insert(0,moduledir)\n",
    "print(\"Own modules available:\", [os.path.splitext(os.path.basename(x))[0]\n",
    "                                 for x in glob.glob(os.path.join(moduledir,'*.py'))])\n",
    "\n",
    "\n",
    "inputdir = os.path.join(repodir,'input/HALO/20200124/AVAPS_Dropsondes/processed/',)\n",
    "figdir = os.path.join(repodir,'figures')\n",
    "moviedir = os.path.join(repodir,'movies')\n",
    "\n",
    "## Graphical parameters\n",
    "# plt.style.use(os.path.join(matplotlib.get_configdir(),'stylelib/presentation.mplstyle'))"
   ]
  },
  {
   "cell_type": "code",
   "execution_count": 4,
   "metadata": {
    "ExecuteTime": {
     "end_time": "2020-02-06T14:30:22.073913Z",
     "start_time": "2020-02-06T14:30:22.046630Z"
    }
   },
   "outputs": [],
   "source": [
    "inputfiles = glob.glob(os.path.join(inputdir,'D*_PQC.nc'))\n",
    "inputfiles.sort()"
   ]
  },
  {
   "cell_type": "code",
   "execution_count": 5,
   "metadata": {
    "ExecuteTime": {
     "end_time": "2020-02-06T14:30:26.039236Z",
     "start_time": "2020-02-06T14:30:23.806726Z"
    }
   },
   "outputs": [],
   "source": [
    "data = []\n",
    "\n",
    "for file in inputfiles :\n",
    "    data.append(xr.open_dataset(file).dropna(dim='time',subset=['time']).\\\n",
    "                swap_dims({'time':'pres'}).reset_coords().\\\n",
    "                dropna(dim='pres',subset=['alt','pres','u_wind','v_wind','lat','lon','mr'],how='any'))\n",
    "\n",
    "Nsondes = len(data)"
   ]
  },
  {
   "cell_type": "code",
   "execution_count": 51,
   "metadata": {
    "ExecuteTime": {
     "end_time": "2020-02-03T17:21:06.308458Z",
     "start_time": "2020-02-03T17:21:06.267038Z"
    },
    "scrolled": false
   },
   "outputs": [
    {
     "name": "stdout",
     "output_type": "stream",
     "text": [
      "extract time information for solar zenith angle calculation\n",
      "2020-01-24T10:03:09.500000000\n",
      "2020-01-24 10:03:09+00:00\n",
      "UTC\n",
      "-4.974205972886262\n",
      "0.9474368578953785\n"
     ]
    }
   ],
   "source": [
    "print(\"extract time information for solar zenith angle calculation\")\n",
    "\n",
    "import datetime\n",
    "import pytz\n",
    "from pysolar.solar import *\n",
    "print(data[0].time.values[0])\n",
    "date = datetime.datetime.strptime(str(data[0].time.values[0]).split('.')[0],'%Y-%m-%dT%H:%M:%S')\n",
    "timezone = pytz.timezone(\"UTC\")\n",
    "date = timezone.localize(date)\n",
    "print(date)\n",
    "print(date.tzinfo)\n",
    "\n",
    "lon = data[0].lon[0].values\n",
    "lat = data[0].lat[0].values\n",
    "\n",
    "alt_sol = get_altitude(lat,lon, date)\n",
    "azim = np.sin(theta_sol*np.pi/180)\n",
    "print(azim)"
   ]
  },
  {
   "cell_type": "code",
   "execution_count": 12,
   "metadata": {
    "ExecuteTime": {
     "end_time": "2020-02-06T14:48:38.917590Z",
     "start_time": "2020-02-06T14:48:38.885875Z"
    }
   },
   "outputs": [
    {
     "data": {
      "text/plain": [
       "array([1011.2242 , 1010.6516 , 1009.52716, ...,  306.97787,  306.59796,\n",
       "        306.21866], dtype=float32)"
      ]
     },
     "execution_count": 12,
     "metadata": {},
     "output_type": "execute_result"
    }
   ],
   "source": [
    "data[0].pres.values"
   ]
  },
  {
   "cell_type": "code",
   "execution_count": 32,
   "metadata": {
    "ExecuteTime": {
     "end_time": "2020-02-03T17:00:21.191252Z",
     "start_time": "2020-02-03T17:00:21.119885Z"
    }
   },
   "outputs": [
    {
     "name": "stdout",
     "output_type": "stream",
     "text": [
      "min,max =  303.0 1015.0\n"
     ]
    }
   ],
   "source": [
    "# Get min and max\n",
    "pres_min = np.floor(np.min([data[i].pres.min() for i in range(Nsondes)]))\n",
    "pres_max = np.ceil(np.max([data[i].pres.max() for i in range(Nsondes)]))\n",
    "\n",
    "print('min,max = ',pres_min, pres_max)"
   ]
  },
  {
   "cell_type": "code",
   "execution_count": null,
   "metadata": {
    "ExecuteTime": {
     "end_time": "2020-01-30T15:55:51.963319Z",
     "start_time": "2020-01-30T15:55:37.680854Z"
    }
   },
   "outputs": [],
   "source": [
    "# interpolate on same grid\n",
    "data_interp = []\n",
    "\n",
    "for i in range(Nsondes) :\n",
    "    data_interp.append(data[i].interp(pres=np.arange(pres_min,pres_max,1)))"
   ]
  },
  {
   "cell_type": "code",
   "execution_count": 28,
   "metadata": {
    "ExecuteTime": {
     "end_time": "2020-01-30T15:57:19.843671Z",
     "start_time": "2020-01-30T15:57:19.676034Z"
    }
   },
   "outputs": [],
   "source": [
    "combined = xr.concat(data_interp[:],dim='sonde_no')"
   ]
  },
  {
   "cell_type": "code",
   "execution_count": 46,
   "metadata": {
    "ExecuteTime": {
     "end_time": "2020-01-30T16:03:42.290078Z",
     "start_time": "2020-01-30T16:03:42.137144Z"
    }
   },
   "outputs": [
    {
     "ename": "AttributeError",
     "evalue": "'list' object has no attribute 'revert'",
     "output_type": "error",
     "traceback": [
      "\u001b[0;31m---------------------------------------------------------------------------\u001b[0m",
      "\u001b[0;31mAttributeError\u001b[0m                            Traceback (most recent call last)",
      "\u001b[0;32m<ipython-input-46-7f73469ec231>\u001b[0m in \u001b[0;36m<module>\u001b[0;34m\u001b[0m\n\u001b[1;32m      1\u001b[0m \u001b[0max\u001b[0m \u001b[0;34m=\u001b[0m \u001b[0mplt\u001b[0m\u001b[0;34m.\u001b[0m\u001b[0mplot\u001b[0m\u001b[0;34m(\u001b[0m\u001b[0mcombined\u001b[0m\u001b[0;34m.\u001b[0m\u001b[0mmr\u001b[0m\u001b[0;34m.\u001b[0m\u001b[0mmean\u001b[0m\u001b[0;34m(\u001b[0m\u001b[0mdim\u001b[0m\u001b[0;34m=\u001b[0m\u001b[0;34m'sonde_no'\u001b[0m\u001b[0;34m)\u001b[0m\u001b[0;34m,\u001b[0m\u001b[0mcombined\u001b[0m\u001b[0;34m.\u001b[0m\u001b[0mpres\u001b[0m\u001b[0;34m)\u001b[0m\u001b[0;34m\u001b[0m\u001b[0;34m\u001b[0m\u001b[0m\n\u001b[0;32m----> 2\u001b[0;31m \u001b[0max\u001b[0m\u001b[0;34m.\u001b[0m\u001b[0mrevert\u001b[0m\u001b[0;34m(\u001b[0m\u001b[0;34m'y'\u001b[0m\u001b[0;34m)\u001b[0m\u001b[0;34m\u001b[0m\u001b[0;34m\u001b[0m\u001b[0m\n\u001b[0m",
      "\u001b[0;31mAttributeError\u001b[0m: 'list' object has no attribute 'revert'"
     ]
    },
    {
     "data": {
      "image/png": "[encoded data removed]",
      "text/plain": [
       "<Figure size 432x288 with 1 Axes>"
      ]
     },
     "metadata": {
      "needs_background": "light"
     },
     "output_type": "display_data"
    }
   ],
   "source": [
    "ax = plt.plot(combined.mr.mean(dim='sonde_no'),combined.pres)\n",
    "ax.revert('y')"
   ]
  },
  {
   "cell_type": "markdown",
   "metadata": {},
   "source": [
    "# Debug rad.nc file"
   ]
  },
  {
   "cell_type": "code",
   "execution_count": 16,
   "metadata": {
    "ExecuteTime": {
     "end_time": "2020-02-06T15:02:45.390641Z",
     "start_time": "2020-02-06T15:02:45.347632Z"
    },
    "scrolled": false
   },
   "outputs": [
    {
     "data": {
      "text/plain": [
       "<xarray.Dataset>\n",
       "Dimensions:         (obs: 1, pres: 1336)\n",
       "Coordinates:\n",
       "  * pres            (pres) float32 1011.2242 1010.6516 ... 306.59796 306.21866\n",
       "Dimensions without coordinates: obs\n",
       "Data variables:\n",
       "    trajectory      |S1 b''\n",
       "    launch_time     datetime64[ns] 2020-01-24T09:50:07\n",
       "    time            (pres) datetime64[ns] 2020-01-24T10:03:09.500000 ... 2020-01-24T09:50:49\n",
       "    tdry            (pres) float32 25.768162 25.717064 ... -30.7321 -30.812067\n",
       "    dp              (pres) float32 20.972649 20.949871 ... -52.830357 -52.754093\n",
       "    rh              (pres) float32 74.41568 74.540215 ... 10.629817 10.8\n",
       "    u_wind          (pres) float32 -5.0939436 -4.957089 ... 21.11877 21.103004\n",
       "    v_wind          (pres) float32 2.8880584 2.6535368 ... -13.171514 -13.223507\n",
       "    w_wind          (pres) float32 -0.18463948 -0.1916296 ... -1.4158301\n",
       "    wspd            (pres) float32 5.855693 5.622632 ... 24.88958 24.903774\n",
       "    wdir            (pres) float32 119.5515 118.16023 ... 301.95114 302.07184\n",
       "    dz              (pres) float32 -10.029679 -10.038616 ... -17.524572\n",
       "    mr              (pres) float32 15.673561 15.660162 ... 0.09532742\n",
       "    vt              (pres) float32 301.784 301.72992 ... 242.44304 242.3632\n",
       "    theta           (pres) float32 297.97974 297.97693 ... 339.70508 339.713\n",
       "    theta_e         (pres) float32 343.6421 343.59988 ... 340.12228 340.13428\n",
       "    theta_v         (pres) float32 300.8265 300.8212 ... 339.7263 339.73444\n",
       "    lat             (pres) float32 14.133422 14.13341 ... 14.157618 14.157678\n",
       "    lon             (pres) float32 -58.194145 -58.194122 ... -58.225754\n",
       "    alt             (pres) float32 7.932469 12.934633 ... 9538.6875 9547.471\n",
       "    gpsalt          (pres) float32 -2.04 3.19 13.66 ... 9559.87 9568.8 9577.95\n",
       "    reference_time  (obs) datetime64[ns] 2020-01-24T09:50:07\n",
       "    reference_pres  (obs) float32 284.85\n",
       "    reference_tdry  (obs) float32 -36.1\n",
       "    reference_rh    (obs) float32 nan\n",
       "    reference_wspd  (obs) float32 nan\n",
       "    reference_wdir  (obs) float32 nan\n",
       "    reference_lat   (obs) float32 14.161172\n",
       "    reference_lon   (obs) float32 -58.239487\n",
       "    reference_alt   (obs) float32 10056.591\n",
       "Attributes:\n",
       "    Conventions:            CF-1.6\n",
       "    RepoRevision:           V3.4.3\n",
       "    RepoLastChangedDate:    Mon Jan 6 12:01:30 2020 -0700\n",
       "    RepoId:                 3c69e0c56a3b818f9cc5667c5dca9022d541b5b2\n",
       "    RepoBranch:             master\n",
       "    featureType:            trajectory\n",
       "    Agency:                 \n",
       "    AltInterpSpan:          60\n",
       "    AspenVersion:           Aspen V3.4.3\n",
       "    BlendLength:            4\n",
       "    CabinTemp:              25\n",
       "    ChuteArea:              900\n",
       "    ConfigSetName:          editsonde\n",
       "    DatasetDOI:             \n",
       "    DiscardBadCrcData:      1\n",
       "    DoQC:                   1\n",
       "    DragCoef:               0.61\n",
       "    DropSondeMass:          320\n",
       "    DropsondeHitSfc:        1\n",
       "    Flight:                 20200124\n",
       "    GPSAltBuddySlope:       50\n",
       "    GPSAltQCDev:            50\n",
       "    GPSAltQCWL:             10\n",
       "    GPSPosBuddySlope:       0.005\n",
       "    GPSPosQCDev:            0.01\n",
       "    GPSPosQCWL:             30\n",
       "    IgnoreLaunchAlt:        0\n",
       "    IgnoreLaunchLat:        0\n",
       "    IgnoreLaunchLon:        0\n",
       "    IgnoreLaunchPres:       0\n",
       "    IgnoreLaunchRH:         0\n",
       "    IgnoreLaunchTdry:       0\n",
       "    IgnoreLaunchWdir:       0\n",
       "    IgnoreLaunchWspd:       0\n",
       "    ObsNum:                 99\n",
       "    PlatformId:             ---\n",
       "    PlatformType:           ---\n",
       "    PosInterpSpan:          60\n",
       "    PresBuddySlope:         1.5\n",
       "    PresEquilTime:          6.20\n",
       "    PresEquilTimeOverride:  0\n",
       "    PresMonoCheck:          0\n",
       "    PresOffset:             0\n",
       "    PresOutlier:            4.5\n",
       "    PresQCDev:              1.5\n",
       "    PresQCWL:               30\n",
       "    PresSmoothWL:           10\n",
       "    ProcessingTime:         25 Jan 2020 15:42 UTC\n",
       "    Project:                EUREC4A_RF03\n",
       "    QCDisclaimer:           \n",
       "    RHBuddySlope:           3\n",
       "    RHEquilTime:            41.89\n",
       "    RHEquilTimeOverride:    0\n",
       "    RHOffset:               0\n",
       "    RHOutlier:              10\n",
       "    RHQCDev:                20\n",
       "    RHQCWL:                 20\n",
       "    RHSmoothWL:             10\n",
       "    RHThreshold:            0\n",
       "    RHchoice:               0\n",
       "    ReportObservedPos:      1\n",
       "    SetHtsMissing:          0\n",
       "    SfcAltUnknown:          0\n",
       "    SfcAltitude:            0\n",
       "    SondeId:                192741753\n",
       "    SoundingDescription:    D20200124_095008_P.1 192741753 EUREC4A_RF03, 2020...\n",
       "    TdryBuddySlope:         0.5\n",
       "    TdryDynCor:             1\n",
       "    TdryDynCorWL:           20\n",
       "    TdryEquilTime:          6.20\n",
       "    TdryEquilTimeOverride:  0\n",
       "    TdryOffset:             0\n",
       "    TdryOutlier:            5\n",
       "    TdryQCDev:              0.8\n",
       "    TdryQCWL:               20\n",
       "    TdrySmoothWL:           10\n",
       "    UseTheoryVentRate:      1\n",
       "    WindBuddySlope:         10\n",
       "    WindDynCor:             1\n",
       "    WindDynCorWL:           10\n",
       "    WindEquilTime:          10\n",
       "    WindErrorHigh:          1.6\n",
       "    WindErrorLow:           0.6\n",
       "    WindOutlier:            999\n",
       "    WindQCDev:              999\n",
       "    WindQCWL:               30\n",
       "    WindSats:               4\n",
       "    WindSmoothWL:           10\n",
       "    WindVVPresWL:           5\n",
       "    WindVVdelta:            2.5"
      ]
     },
     "execution_count": 16,
     "metadata": {},
     "output_type": "execute_result"
    }
   ],
   "source": [
    "data[0]"
   ]
  },
  {
   "cell_type": "code",
   "execution_count": 14,
   "metadata": {
    "ExecuteTime": {
     "end_time": "2020-02-06T15:02:05.810293Z",
     "start_time": "2020-02-06T15:02:05.770186Z"
    }
   },
   "outputs": [],
   "source": [
    "data_before_rad = xr.open_dataset('D20200119_161410_PQC_rad.nc')"
   ]
  },
  {
   "cell_type": "code",
   "execution_count": 19,
   "metadata": {
    "ExecuteTime": {
     "end_time": "2020-02-06T15:29:31.493293Z",
     "start_time": "2020-02-06T15:29:31.391216Z"
    }
   },
   "outputs": [
    {
     "name": "stderr",
     "output_type": "stream",
     "text": [
      "/Users/bfildier/anaconda3/envs/pyLMD/lib/python3.7/site-packages/ipykernel_launcher.py:1: FutureWarning: The inplace argument has been deprecated and will be removed in a future version of xarray.\n",
      "  \"\"\"Entry point for launching an IPython kernel.\n"
     ]
    },
    {
     "ename": "ValueError",
     "evalue": "cannot rename 'p_lay' because it is not a variable or dimension in this dataset",
     "output_type": "error",
     "traceback": [
      "\u001b[0;31m---------------------------------------------------------------------------\u001b[0m",
      "\u001b[0;31mValueError\u001b[0m                                Traceback (most recent call last)",
      "\u001b[0;32m<ipython-input-19-085aaf8edb04>\u001b[0m in \u001b[0;36m<module>\u001b[0;34m\u001b[0m\n\u001b[0;32m----> 1\u001b[0;31m \u001b[0mdata_before_rad\u001b[0m\u001b[0;34m.\u001b[0m\u001b[0mrename\u001b[0m\u001b[0;34m(\u001b[0m\u001b[0;34m{\u001b[0m\u001b[0;34m'p_lay'\u001b[0m\u001b[0;34m:\u001b[0m\u001b[0;34m'play'\u001b[0m\u001b[0;34m}\u001b[0m\u001b[0;34m,\u001b[0m\u001b[0minplace\u001b[0m\u001b[0;34m=\u001b[0m\u001b[0;32mTrue\u001b[0m\u001b[0;34m)\u001b[0m\u001b[0;34m\u001b[0m\u001b[0;34m\u001b[0m\u001b[0m\n\u001b[0m\u001b[1;32m      2\u001b[0m \u001b[0mdata_before_rad\u001b[0m\u001b[0;34m\u001b[0m\u001b[0;34m\u001b[0m\u001b[0m\n",
      "\u001b[0;32m~/anaconda3/envs/pyLMD/lib/python3.7/site-packages/xarray/core/dataset.py\u001b[0m in \u001b[0;36mrename\u001b[0;34m(self, name_dict, inplace, **names)\u001b[0m\n\u001b[1;32m   2274\u001b[0m             \u001b[0;32mif\u001b[0m \u001b[0mk\u001b[0m \u001b[0;32mnot\u001b[0m \u001b[0;32min\u001b[0m \u001b[0mself\u001b[0m \u001b[0;32mand\u001b[0m \u001b[0mk\u001b[0m \u001b[0;32mnot\u001b[0m \u001b[0;32min\u001b[0m \u001b[0mself\u001b[0m\u001b[0;34m.\u001b[0m\u001b[0mdims\u001b[0m\u001b[0;34m:\u001b[0m\u001b[0;34m\u001b[0m\u001b[0;34m\u001b[0m\u001b[0m\n\u001b[1;32m   2275\u001b[0m                 raise ValueError(\"cannot rename %r because it is not a \"\n\u001b[0;32m-> 2276\u001b[0;31m                                  \"variable or dimension in this dataset\" % k)\n\u001b[0m\u001b[1;32m   2277\u001b[0m \u001b[0;34m\u001b[0m\u001b[0m\n\u001b[1;32m   2278\u001b[0m         variables, coord_names, dims, indexes = self._rename_all(\n",
      "\u001b[0;31mValueError\u001b[0m: cannot rename 'p_lay' because it is not a variable or dimension in this dataset"
     ]
    }
   ],
   "source": [
    "data_before_rad.rename({'p_lay':'play'},inplace=True)\n",
    "data_before_rad"
   ]
  },
  {
   "cell_type": "code",
   "execution_count": null,
   "metadata": {},
   "outputs": [],
   "source": []
  }
 ],
 "metadata": {
  "hide_input": false,
  "kernelspec": {
   "display_name": "Python 3",
   "language": "python",
   "name": "python3"
  },
  "language_info": {
   "codemirror_mode": {
    "name": "ipython",
    "version": 3
   },
   "file_extension": ".py",
   "mimetype": "text/x-python",
   "name": "python",
   "nbconvert_exporter": "python",
   "pygments_lexer": "ipython3",
   "version": "3.7.4"
  },
  "toc": {
   "base_numbering": 1,
   "nav_menu": {},
   "number_sections": true,
   "sideBar": true,
   "skip_h1_title": false,
   "title_cell": "Table of Contents",
   "title_sidebar": "Contents",
   "toc_cell": false,
   "toc_position": {},
   "toc_section_display": true,
   "toc_window_display": false
  },
  "varInspector": {
   "cols": {
    "lenName": 16,
    "lenType": 16,
    "lenVar": 40
   },
   "kernels_config": {
    "python": {
     "delete_cmd_postfix": "",
     "delete_cmd_prefix": "del ",
     "library": "var_list.py",
     "varRefreshCmd": "print(var_dic_list())"
    },
    "r": {
     "delete_cmd_postfix": ") ",
     "delete_cmd_prefix": "rm(",
     "library": "var_list.r",
     "varRefreshCmd": "cat(var_dic_list()) "
    }
   },
   "types_to_exclude": [
    "module",
    "function",
    "builtin_function_or_method",
    "instance",
    "_Feature"
   ],
   "window_display": false
  }
 },
 "nbformat": 4,
 "nbformat_minor": 2
}
