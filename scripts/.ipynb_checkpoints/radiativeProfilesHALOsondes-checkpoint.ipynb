{
 "cells": [
  {
   "cell_type": "code",
   "execution_count": 5,
   "metadata": {
    "ExecuteTime": {
     "end_time": "2020-01-30T15:34:57.683430Z",
     "start_time": "2020-01-30T15:34:57.651640Z"
    }
   },
   "outputs": [
    {
     "name": "stdout",
     "output_type": "stream",
     "text": [
      "The autoreload extension is already loaded. To reload it, use:\n",
      "  %reload_ext autoreload\n"
     ]
    }
   ],
   "source": [
    "%load_ext autoreload\n",
    "%matplotlib inline"
   ]
  },
  {
   "cell_type": "code",
   "execution_count": 14,
   "metadata": {
    "ExecuteTime": {
     "end_time": "2020-01-30T15:38:04.525312Z",
     "start_time": "2020-01-30T15:38:04.485933Z"
    }
   },
   "outputs": [
    {
     "name": "stdout",
     "output_type": "stream",
     "text": [
      "repo: /Users/bfildier/Code/analyses/EUREC4A\n",
      "Own modules available: []\n"
     ]
    }
   ],
   "source": [
    "%autoreload 2\n",
    "\n",
    "import numpy as np\n",
    "import pandas as pd\n",
    "import matplotlib\n",
    "import matplotlib.pyplot as plt\n",
    "import matplotlib.colors as colors\n",
    "import matplotlib.cm as cmx\n",
    "import xarray as xr\n",
    "\n",
    "import os,sys,glob\n",
    "import re\n",
    "\n",
    "## Add own library to path\n",
    "workdir = os.getcwd()\n",
    "repodir = workdir\n",
    "projectname = 'EUREC4A'\n",
    "while os.path.basename(repodir) != projectname:\n",
    "    repodir = os.path.dirname(repodir)\n",
    "print('repo:',repodir)\n",
    "thismodule = sys.modules[__name__]\n",
    "## Own functions\n",
    "moduledir = os.path.join(repodir,'functions')\n",
    "sys.path.insert(0,moduledir)\n",
    "print(\"Own modules available:\", [os.path.splitext(os.path.basename(x))[0]\n",
    "                                 for x in glob.glob(os.path.join(moduledir,'*.py'))])\n",
    "\n",
    "\n",
    "inputdir = '/Users/bfildier/Data/EUREC4A/Measurements/HALO/20200124/AVAPS_Dropsondes/processed'\n",
    "figdir = os.path.join(repodir,'figures')\n",
    "moviedir = os.path.join(repodir,'movies')\n",
    "\n",
    "## Graphical parameters\n",
    "plt.style.use(os.path.join(matplotlib.get_configdir(),'stylelib/presentation.mplstyle'))"
   ]
  },
  {
   "cell_type": "code",
   "execution_count": 15,
   "metadata": {
    "ExecuteTime": {
     "end_time": "2020-01-30T15:38:05.881843Z",
     "start_time": "2020-01-30T15:38:05.853062Z"
    }
   },
   "outputs": [],
   "source": [
    "inputfiles = glob.glob(os.path.join(inputdir,'D*_PQC.nc'))\n",
    "inputfiles.sort()"
   ]
  },
  {
   "cell_type": "code",
   "execution_count": 21,
   "metadata": {
    "ExecuteTime": {
     "end_time": "2020-01-30T15:47:30.816694Z",
     "start_time": "2020-01-30T15:47:28.710595Z"
    }
   },
   "outputs": [],
   "source": [
    "data = []\n",
    "\n",
    "for file in inputfiles :\n",
    "    data.append(xr.open_dataset(file).dropna(dim='time',subset=['time']).\\\n",
    "                swap_dims({'time':'pres'}).reset_coords().\\\n",
    "                dropna(dim='pres',subset=['alt','pres','u_wind','v_wind','lat','lon','mr'],how='any'))\n",
    "\n",
    "Nsondes = len(data)"
   ]
  },
  {
   "cell_type": "code",
   "execution_count": 23,
   "metadata": {
    "ExecuteTime": {
     "end_time": "2020-01-30T15:47:41.580716Z",
     "start_time": "2020-01-30T15:47:41.501437Z"
    }
   },
   "outputs": [
    {
     "name": "stdout",
     "output_type": "stream",
     "text": [
      "min,max =  303.7098083496094 1014.0407104492188\n"
     ]
    }
   ],
   "source": [
    "# Get min and max\n",
    "pres_min = np.floor(np.min([data[i].pres.min() for i in range(Nsondes)]))\n",
    "pres_max = np.ceil(np.max([data[i].pres.max() for i in range(Nsondes)]))\n",
    "\n",
    "print('min,max = ',pres_min, pres_max)"
   ]
  },
  {
   "cell_type": "code",
   "execution_count": null,
   "metadata": {},
   "outputs": [],
   "source": [
    "# interpolate on same grid\n",
    "data_interp = []\n",
    "\n",
    "for i in range(Nsondes) :\n",
    "    data_interp.append(data[i].interp(pres=np.arange(200,1100,1)))\n",
    "\n"
   ]
  }
 ],
 "metadata": {
  "hide_input": false,
  "kernelspec": {
   "display_name": "Python 3",
   "language": "python",
   "name": "python3"
  },
  "language_info": {
   "codemirror_mode": {
    "name": "ipython",
    "version": 3
   },
   "file_extension": ".py",
   "mimetype": "text/x-python",
   "name": "python",
   "nbconvert_exporter": "python",
   "pygments_lexer": "ipython3",
   "version": "3.7.4"
  },
  "toc": {
   "base_numbering": 1,
   "nav_menu": {},
   "number_sections": true,
   "sideBar": true,
   "skip_h1_title": false,
   "title_cell": "Table of Contents",
   "title_sidebar": "Contents",
   "toc_cell": false,
   "toc_position": {},
   "toc_section_display": true,
   "toc_window_display": false
  },
  "varInspector": {
   "cols": {
    "lenName": 16,
    "lenType": 16,
    "lenVar": 40
   },
   "kernels_config": {
    "python": {
     "delete_cmd_postfix": "",
     "delete_cmd_prefix": "del ",
     "library": "var_list.py",
     "varRefreshCmd": "print(var_dic_list())"
    },
    "r": {
     "delete_cmd_postfix": ") ",
     "delete_cmd_prefix": "rm(",
     "library": "var_list.r",
     "varRefreshCmd": "cat(var_dic_list()) "
    }
   },
   "types_to_exclude": [
    "module",
    "function",
    "builtin_function_or_method",
    "instance",
    "_Feature"
   ],
   "window_display": false
  }
 },
 "nbformat": 4,
 "nbformat_minor": 2
}
